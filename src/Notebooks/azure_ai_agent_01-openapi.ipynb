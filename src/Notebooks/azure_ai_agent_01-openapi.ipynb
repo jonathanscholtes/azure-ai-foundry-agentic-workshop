{
 "cells": [
  {
   "cell_type": "code",
   "execution_count": 2,
   "id": "f726bd31",
   "metadata": {},
   "outputs": [],
   "source": [
    "! pip install -r requirements.txt --quiet"
   ]
  },
  {
   "cell_type": "markdown",
   "id": "460ecb91",
   "metadata": {},
   "source": [
    "# Creating and Deploying an Azure AI Agent Using SDK and OpenAPI Tools\n",
    "\n",
    "This notebook demonstrates how to create and deploy an Azure AI Agent using the Azure SDK, with tools generated from an OpenAPI endpoint. It provides a coded example that mirrors the portal example demonstrated in this workshop, offering a programmatic approach to deploying agents with OpenAPI-driven tools.\n",
    "\n",
    "\n",
    "🔗 [How to use Azure AI Agent Service with OpenAPI Specified Tools](https://learn.microsoft.com/en-us/azure/ai-services/agents/how-to/tools/openapi-spec?tabs=python&pivots=code-example)"
   ]
  },
  {
   "cell_type": "code",
   "execution_count": 1,
   "id": "1b478234",
   "metadata": {},
   "outputs": [
    {
     "data": {
      "text/plain": [
       "True"
      ]
     },
     "execution_count": 1,
     "metadata": {},
     "output_type": "execute_result"
    }
   ],
   "source": [
    "\n",
    "from os import environ\n",
    "from dotenv import load_dotenv\n",
    "import jsonref\n",
    "from azure.ai.projects import AIProjectClient\n",
    "from azure.identity import DefaultAzureCredential\n",
    "from azure.ai.projects.models import OpenApiTool, OpenApiAnonymousAuthDetails\n",
    "import requests\n",
    "\n",
    "load_dotenv(override=True)"
   ]
  },
  {
   "cell_type": "markdown",
   "id": "0a862bfa",
   "metadata": {},
   "source": [
    "## Create a project client"
   ]
  },
  {
   "cell_type": "code",
   "execution_count": 2,
   "id": "36653bcd",
   "metadata": {},
   "outputs": [],
   "source": [
    "project_client = AIProjectClient.from_connection_string(\n",
    "    credential=DefaultAzureCredential(),\n",
    "    conn_str=environ[\"AZURE_AI_PROJECT_CONNECTION_STRING\"],\n",
    ")"
   ]
  },
  {
   "cell_type": "markdown",
   "id": "4581ee78",
   "metadata": {},
   "source": [
    "## Create the OpenAPI Spec tool definition\n",
    "\n",
    "Our Agent will create its tools from our deployed OpenAPI endpoints, for this to work we will need to pass in the openapi.json spec document."
   ]
  },
  {
   "cell_type": "code",
   "execution_count": 3,
   "id": "a2dce8f5",
   "metadata": {},
   "outputs": [],
   "source": [
    "spec_url = environ['OPENAPI_URL']\n",
    "response = requests.get(spec_url)\n",
    "response.raise_for_status()\n",
    "\n",
    "\n",
    "openapi_spec = response.json()\n",
    "\n",
    "auth = OpenApiAnonymousAuthDetails()\n",
    "\n",
    "openapi = OpenApiTool(name=\"get_energy_usage\", spec=openapi_spec, description=\"Retrieve data center energy, power, or consumption topic\", auth=auth)\n"
   ]
  },
  {
   "cell_type": "markdown",
   "id": "907444e4",
   "metadata": {},
   "source": [
    "## Create an agent and a thread"
   ]
  },
  {
   "cell_type": "code",
   "execution_count": 4,
   "id": "ee7bf68c",
   "metadata": {},
   "outputs": [
    {
     "name": "stdout",
     "output_type": "stream",
     "text": [
      "Created agent, ID: asst_Re5YfSoxJ8gLXywlQdfX7d15\n",
      "Created thread, ID: thread_JGBmo87U0GhuewjNs5EgifVC\n"
     ]
    }
   ],
   "source": [
    "instructions = \"\"\"\n",
    "You are a helpful and knowledgeable assistant that helps users understand and monitor data center energy usage.\n",
    "\n",
    "Use the provided tools to retrieve accurate, real-time, and historical data on energy consumption, efficiency metrics (such as PUE), carbon footprint, and resource utilization across different data center regions or racks.\n",
    "\n",
    "Always respond with concise and clear summaries, including units of measurement (e.g., kWh, %). If applicable, compare usage across regions or time ranges to highlight trends or inefficiencies.\n",
    "\n",
    "If the user asks something unrelated to data center energy or the information is not available via the provided tools, respond with: \"I'm unable to find that information based on the current data.\"\n",
    "\n",
    "Only use the tools provided to retrieve answers.\n",
    "\"\"\"\n",
    "\n",
    "\n",
    "\n",
    "agent = project_client.agents.create_agent(\n",
    "    model=\"gpt-4o\",\n",
    "    name=\"Data Center Energy Usage Agent\",\n",
    "    instructions=instructions,\n",
    "    tools=openapi.definitions\n",
    ")\n",
    "\n",
    "print(f\"Created agent, ID: {agent.id}\")\n",
    "\n",
    "# Create thread for communication\n",
    "thread = project_client.agents.create_thread()\n",
    "print(f\"Created thread, ID: {thread.id}\")\n",
    "\n"
   ]
  },
  {
   "cell_type": "markdown",
   "id": "e80046d0",
   "metadata": {},
   "source": [
    "## Create a run and check the output"
   ]
  },
  {
   "cell_type": "code",
   "execution_count": 5,
   "id": "d2054366",
   "metadata": {},
   "outputs": [
    {
     "name": "stdout",
     "output_type": "stream",
     "text": [
      "Created message, ID: msg_iKtPsVo5x6RukOMwAZ7orknQ\n",
      "Run finished with status: RunStatus.COMPLETED\n",
      "Messages: {'object': 'list', 'data': [{'id': 'msg_zYWPRw9HHMLFFvdj2U9bPhyo', 'object': 'thread.message', 'created_at': 1746027161, 'assistant_id': 'asst_Re5YfSoxJ8gLXywlQdfX7d15', 'thread_id': 'thread_JGBmo87U0GhuewjNs5EgifVC', 'run_id': 'run_YXlbhdZdQQHImyozDQJqTsJF', 'role': 'assistant', 'content': [{'type': 'text', 'text': {'value': 'The highest CO2 emissions among data centers are currently observed in the following cases:\\n\\n1. **DC-CHI2 (Zone C3)**: 153.31 kg of CO2 emitted during a period of diesel power usage, likely due to high cooling load and IT load inefficiencies.\\n\\n2. **DC-NYC1 (Zone B2)**: 126.48 kg of CO2 during a system powered by battery energy sources.\\n\\n3. **DC-CHI2 (Zone C3)**: Another spike noted at 140.93 kg of CO2, again associated with diesel energy.\\n\\nEfforts to mitigate these high emissions could focus on optimizing cooling systems and reducing dependency on non-renewable energy sources.', 'annotations': []}}], 'attachments': [], 'metadata': {}}, {'id': 'msg_iKtPsVo5x6RukOMwAZ7orknQ', 'object': 'thread.message', 'created_at': 1746027143, 'assistant_id': None, 'thread_id': 'thread_JGBmo87U0GhuewjNs5EgifVC', 'run_id': None, 'role': 'user', 'content': [{'type': 'text', 'text': {'value': 'What data centers have the highest co2 emissions?', 'annotations': []}}], 'attachments': [], 'metadata': {}}], 'first_id': 'msg_zYWPRw9HHMLFFvdj2U9bPhyo', 'last_id': 'msg_iKtPsVo5x6RukOMwAZ7orknQ', 'has_more': False}\n"
     ]
    }
   ],
   "source": [
    "message = project_client.agents.create_message(\n",
    "    thread_id=thread.id,\n",
    "    role=\"user\",\n",
    "    content=\"What data centers have the highest co2 emissions?\",\n",
    ")\n",
    "print(f\"Created message, ID: {message.id}\")\n",
    "\n",
    "# Create and process agent run in thread with tools\n",
    "run = project_client.agents.create_and_process_run(thread_id=thread.id, agent_id=agent.id)\n",
    "print(f\"Run finished with status: {run.status}\")\n",
    "\n",
    "if run.status == \"failed\":\n",
    "    print(f\"Run failed: {run.last_error}\")\n",
    "\n",
    "# Fetch and log all messages\n",
    "messages = project_client.agents.list_messages(thread_id=thread.id)\n",
    "print(f\"Messages: {messages}\")"
   ]
  },
  {
   "cell_type": "markdown",
   "id": "46ac735e",
   "metadata": {},
   "source": [
    "## Delete the assistant when done\n",
    "\n",
    "Comment the code below to save the agent to your Azure AI Froundry project.\n"
   ]
  },
  {
   "cell_type": "code",
   "execution_count": 6,
   "id": "92acf369",
   "metadata": {},
   "outputs": [],
   "source": [
    "\n",
    "#project_client.agents.delete_agent(agent.id)\n",
    "#print(\"Deleted agent\")"
   ]
  }
 ],
 "metadata": {
  "kernelspec": {
   "display_name": ".venv",
   "language": "python",
   "name": "python3"
  },
  "language_info": {
   "codemirror_mode": {
    "name": "ipython",
    "version": 3
   },
   "file_extension": ".py",
   "mimetype": "text/x-python",
   "name": "python",
   "nbconvert_exporter": "python",
   "pygments_lexer": "ipython3",
   "version": "3.12.10"
  }
 },
 "nbformat": 4,
 "nbformat_minor": 5
}
