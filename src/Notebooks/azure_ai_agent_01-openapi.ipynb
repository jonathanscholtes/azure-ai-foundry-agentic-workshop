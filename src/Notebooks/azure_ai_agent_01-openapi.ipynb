{
 "cells": [
  {
   "cell_type": "code",
   "execution_count": 2,
   "id": "f726bd31",
   "metadata": {},
   "outputs": [],
   "source": [
    "! pip install -r requirements.txt --quiet"
   ]
  },
  {
   "cell_type": "code",
   "execution_count": 1,
   "id": "1b478234",
   "metadata": {},
   "outputs": [
    {
     "data": {
      "text/plain": [
       "True"
      ]
     },
     "execution_count": 1,
     "metadata": {},
     "output_type": "execute_result"
    }
   ],
   "source": [
    "\n",
    "from os import environ\n",
    "from dotenv import load_dotenv\n",
    "import jsonref\n",
    "from azure.ai.projects import AIProjectClient\n",
    "from azure.identity import DefaultAzureCredential\n",
    "from azure.ai.projects.models import OpenApiTool, OpenApiAnonymousAuthDetails\n",
    "import requests\n",
    "\n",
    "load_dotenv(override=True)"
   ]
  },
  {
   "cell_type": "markdown",
   "id": "0a862bfa",
   "metadata": {},
   "source": [
    "## Create a project client"
   ]
  },
  {
   "cell_type": "code",
   "execution_count": 2,
   "id": "36653bcd",
   "metadata": {},
   "outputs": [],
   "source": [
    "project_client = AIProjectClient.from_connection_string(\n",
    "    credential=DefaultAzureCredential(),\n",
    "    conn_str=environ[\"AZURE_AI_PROJECT_CONNECTION_STRING\"],\n",
    ")"
   ]
  },
  {
   "cell_type": "markdown",
   "id": "4581ee78",
   "metadata": {},
   "source": [
    "## Create the OpenAPI Spec tool definition"
   ]
  },
  {
   "cell_type": "code",
   "execution_count": 3,
   "id": "a2dce8f5",
   "metadata": {},
   "outputs": [],
   "source": [
    "spec_url = environ['OPENAPI_URL']\n",
    "response = requests.get(spec_url)\n",
    "response.raise_for_status()\n",
    "\n",
    "\n",
    "openapi_spec = response.json()\n",
    "\n",
    "auth = OpenApiAnonymousAuthDetails()\n",
    "\n",
    "openapi = OpenApiTool(name=\"get_energy_usage\", spec=openapi_spec, description=\"Retrieve data center energy, power, or consumption topic\", auth=auth)\n"
   ]
  },
  {
   "cell_type": "markdown",
   "id": "907444e4",
   "metadata": {},
   "source": [
    "## Create an agent and a thread"
   ]
  },
  {
   "cell_type": "code",
   "execution_count": 4,
   "id": "ee7bf68c",
   "metadata": {},
   "outputs": [
    {
     "name": "stdout",
     "output_type": "stream",
     "text": [
      "Created agent, ID: asst_qvaQ6dZu2bfRiJYAD0m66uWI\n",
      "Created thread, ID: thread_7ReLSOjQPl1VVhNndpdPptOq\n"
     ]
    }
   ],
   "source": [
    "instructions = \"\"\"\n",
    "You are a helpful and knowledgeable assistant that helps users understand and monitor data center energy usage.\n",
    "\n",
    "Use the provided tools to retrieve accurate, real-time, and historical data on energy consumption, efficiency metrics (such as PUE), carbon footprint, and resource utilization across different data center regions or racks.\n",
    "\n",
    "Always respond with concise and clear summaries, including units of measurement (e.g., kWh, %). If applicable, compare usage across regions or time ranges to highlight trends or inefficiencies.\n",
    "\n",
    "If the user asks something unrelated to data center energy or the information is not available via the provided tools, respond with: \"I'm unable to find that information based on the current data.\"\n",
    "\n",
    "Only use the tools provided to retrieve answers.\n",
    "\"\"\"\n",
    "\n",
    "\n",
    "\n",
    "agent = project_client.agents.create_agent(\n",
    "    model=\"gpt-4o\",\n",
    "    name=\"Data Center Energy Usage Agent\",\n",
    "    instructions=instructions,\n",
    "    tools=openapi.definitions\n",
    ")\n",
    "\n",
    "print(f\"Created agent, ID: {agent.id}\")\n",
    "\n",
    "# Create thread for communication\n",
    "thread = project_client.agents.create_thread()\n",
    "print(f\"Created thread, ID: {thread.id}\")\n",
    "\n"
   ]
  },
  {
   "cell_type": "markdown",
   "id": "e80046d0",
   "metadata": {},
   "source": [
    "## Create a run and check the output"
   ]
  },
  {
   "cell_type": "code",
   "execution_count": 5,
   "id": "d2054366",
   "metadata": {},
   "outputs": [
    {
     "name": "stdout",
     "output_type": "stream",
     "text": [
      "Created message, ID: msg_hKsPGcuDUuThHMfuCwdaPQWj\n",
      "Run finished with status: RunStatus.COMPLETED\n",
      "Messages: {'object': 'list', 'data': [{'id': 'msg_om6rapTCOscpl7PGkoTWsxF3', 'object': 'thread.message', 'created_at': 1744910542, 'assistant_id': 'asst_qvaQ6dZu2bfRiJYAD0m66uWI', 'thread_id': 'thread_7ReLSOjQPl1VVhNndpdPptOq', 'run_id': 'run_EDWhFLPUndRTyIJwV9KFfLXn', 'role': 'assistant', 'content': [{'type': 'text', 'text': {'value': 'Based on recent data, the data centers with the highest CO2 emissions are:\\n\\n1. **DC-CHI2 (Zone C3)** - 153.31 kg of CO2 emissions recently recorded.\\n2. **DC-NYC1 (Zone A1)** - 125.15 kg of CO2 emissions recently recorded.\\n3. **DC-CHI2 (Zone B2)** - 137.42 kg of CO2 emissions recently recorded.\\n4. **DC-NYC1 (Zone C3)** - 126.48 kg of CO2 emissions recently recorded.\\n\\nThese figures reflect high-emission zones due to factors like energy source reliance (grid/diesel/battery) and operational inefficiencies.', 'annotations': []}}], 'attachments': [], 'metadata': {}}, {'id': 'msg_hKsPGcuDUuThHMfuCwdaPQWj', 'object': 'thread.message', 'created_at': 1744910531, 'assistant_id': None, 'thread_id': 'thread_7ReLSOjQPl1VVhNndpdPptOq', 'run_id': None, 'role': 'user', 'content': [{'type': 'text', 'text': {'value': 'What data centers have the highest co2 emissions?', 'annotations': []}}], 'attachments': [], 'metadata': {}}], 'first_id': 'msg_om6rapTCOscpl7PGkoTWsxF3', 'last_id': 'msg_hKsPGcuDUuThHMfuCwdaPQWj', 'has_more': False}\n"
     ]
    }
   ],
   "source": [
    "message = project_client.agents.create_message(\n",
    "    thread_id=thread.id,\n",
    "    role=\"user\",\n",
    "    content=\"What data centers have the highest co2 emissions?\",\n",
    ")\n",
    "print(f\"Created message, ID: {message.id}\")\n",
    "\n",
    "# Create and process agent run in thread with tools\n",
    "run = project_client.agents.create_and_process_run(thread_id=thread.id, agent_id=agent.id)\n",
    "print(f\"Run finished with status: {run.status}\")\n",
    "\n",
    "if run.status == \"failed\":\n",
    "    print(f\"Run failed: {run.last_error}\")\n",
    "\n",
    "# Fetch and log all messages\n",
    "messages = project_client.agents.list_messages(thread_id=thread.id)\n",
    "print(f\"Messages: {messages}\")"
   ]
  },
  {
   "cell_type": "markdown",
   "id": "46ac735e",
   "metadata": {},
   "source": [
    "## Delete the assistant when done\n",
    "\n",
    "Comment the code below to save the agent to your Azure AI Froundry project.\n"
   ]
  },
  {
   "cell_type": "code",
   "execution_count": null,
   "id": "92acf369",
   "metadata": {},
   "outputs": [],
   "source": [
    "\n",
    "project_client.agents.delete_agent(agent.id)\n",
    "print(\"Deleted agent\")"
   ]
  }
 ],
 "metadata": {
  "kernelspec": {
   "display_name": ".venv",
   "language": "python",
   "name": "python3"
  },
  "language_info": {
   "codemirror_mode": {
    "name": "ipython",
    "version": 3
   },
   "file_extension": ".py",
   "mimetype": "text/x-python",
   "name": "python",
   "nbconvert_exporter": "python",
   "pygments_lexer": "ipython3",
   "version": "3.12.10"
  }
 },
 "nbformat": 4,
 "nbformat_minor": 5
}
