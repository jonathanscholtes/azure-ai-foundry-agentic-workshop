{
 "cells": [
  {
   "cell_type": "code",
   "execution_count": 1,
   "id": "62f54770",
   "metadata": {},
   "outputs": [
    {
     "name": "stdout",
     "output_type": "stream",
     "text": [
      "^C\n"
     ]
    },
    {
     "name": "stderr",
     "output_type": "stream",
     "text": [
      "\n",
      "[notice] A new release of pip is available: 25.1 -> 25.1.1\n",
      "[notice] To update, run: python.exe -m pip install --upgrade pip\n"
     ]
    }
   ],
   "source": [
    "! pip install -r requirements.txt --quiet"
   ]
  },
  {
   "cell_type": "markdown",
   "id": "7498db30",
   "metadata": {},
   "source": [
    "# Querying Structured Data with the Semantic Kernel Process Framework\n",
    "\n",
    "This notebook demonstrates how to use the **Semantic Kernel Process Framework** to orchestrate AI-driven workflows. It shows how an agent can dynamically generate and execute Python code to query structured data—specifically, a Parquet file stored in an Azure Storage Account—by filtering a pandas DataFrame to answer user queries.\n",
    "\n",
    "## Process Framework\n",
    "\n",
    "The **Process Framework** streamlines the automation of complex workflows using an event-driven model. Each step executes user-defined Kernel Functions, allowing flexible and modular workflow design.\n",
    "\n",
    "🔗 [Learn more about the Process Framework](https://learn.microsoft.com/en-us/semantic-kernel/frameworks/process/process-framework)\n",
    "\n",
    "> ⚠️ The Process Framework package is currently experimental and may change before reaching preview or GA.\n"
   ]
  },
  {
   "cell_type": "code",
   "execution_count": 1,
   "id": "87b4320e",
   "metadata": {},
   "outputs": [
    {
     "data": {
      "text/plain": [
       "True"
      ]
     },
     "execution_count": 1,
     "metadata": {},
     "output_type": "execute_result"
    }
   ],
   "source": [
    "import asyncio\n",
    "from typing import ClassVar\n",
    "\n",
    "from pydantic import BaseModel, Field, ConfigDict\n",
    "\n",
    "import pandas as pd\n",
    "import numpy as np\n",
    "from typing import Optional, Any\n",
    "\n",
    "from semantic_kernel import Kernel\n",
    "from semantic_kernel.connectors.ai.chat_completion_client_base import ChatCompletionClientBase\n",
    "from semantic_kernel.connectors.ai.open_ai import AzureChatCompletion\n",
    "from semantic_kernel.contents import ChatHistory\n",
    "from semantic_kernel.functions import kernel_function\n",
    "from semantic_kernel.processes import ProcessBuilder\n",
    "from semantic_kernel.processes.kernel_process import KernelProcessStep, KernelProcessStepContext, KernelProcessStepState,KernelProcessEvent\n",
    "from semantic_kernel.processes.local_runtime.local_kernel_process import start\n",
    "\n",
    "\n",
    "from user_functions import get_datafame_from_storage\n",
    "from utils import draw_kernel_process_mermaid\n",
    "from dotenv import load_dotenv\n",
    "from os import environ\n",
    "from IPython.display import Image,SVG, display\n",
    "\n",
    "\n",
    "load_dotenv(override=True)"
   ]
  },
  {
   "cell_type": "markdown",
   "id": "6ddccd2a",
   "metadata": {},
   "source": [
    "### Configure the kernel with an AI Service and connection details"
   ]
  },
  {
   "cell_type": "code",
   "execution_count": 2,
   "id": "0fa3bbc9",
   "metadata": {},
   "outputs": [],
   "source": [
    "\n",
    "kernel = Kernel()\n",
    "kernel.add_service(AzureChatCompletion(\n",
    "    service_id=\"chat\",\n",
    "    deployment_name=environ[\"AZURE_OPENAI_MODEL\"],\n",
    "    endpoint=environ[\"AZURE_OPENAI_ENDPOINT\"],\n",
    "    api_key=environ[\"AZURE_OPENAI_API_KEY\"] ))\n"
   ]
  },
  {
   "cell_type": "markdown",
   "id": "2511010c",
   "metadata": {},
   "source": [
    "### Define the process steps\n"
   ]
  },
  {
   "cell_type": "code",
   "execution_count": 3,
   "id": "b1813cdb",
   "metadata": {},
   "outputs": [],
   "source": [
    "\n",
    "# Define the state model\n",
    "class DataFrameProcessState(BaseModel):\n",
    "    chat_history: ChatHistory | None = None\n",
    "\n",
    "\n",
    "\n",
    "# Step 1: Generate Query Step\n",
    "class GenerateQueryStep(KernelProcessStep[DataFrameProcessState]):\n",
    "    state: DataFrameProcessState = Field(default_factory=DataFrameProcessState)\n",
    "\n",
    "\n",
    "    @kernel_function\n",
    "    async def generate_query(self, context: KernelProcessStepContext, data:dict):\n",
    "        df=data['df']\n",
    "        user_input = data['input']\n",
    "        \n",
    "        print(f\"{GenerateQueryStep.__name__}\\n\\t Generating Query for {user_input}\")\n",
    "\n",
    "        \n",
    "        if self.state.chat_history is None:\n",
    "            self.state.chat_history = ChatHistory()\n",
    "\n",
    "       \n",
    "        if df is None:\n",
    "            raise ValueError(\"DataFrame is not set in state.\")\n",
    "\n",
    "        schema = \"\\n\".join(f\"{col}: {dtype}\" for col, dtype in df.dtypes.items())\n",
    "        sample = df.head(3).to_markdown()\n",
    "\n",
    "        self.state.chat_history.add_user_message(user_input)\n",
    "\n",
    "        prompt = (\n",
    "            f\"You are a Python data assistant.\\n\\n\"\n",
    "            f\"DataFrame schema:\\n{schema}\\n\\nSample rows:\\n{sample}\\n\\n\"\n",
    "            \"Given the user request, return Python code that operates on `panda df` and assigns result to `result`.\"\n",
    "            \"Only return code. No explanation.\"\n",
    "            \"Do **not** include triple backticks (` ``` `)\"\n",
    "        )\n",
    "\n",
    "\n",
    "        self.state.chat_history.add_user_message(user_input)\n",
    "        self.state.chat_history.add_user_message(prompt)\n",
    "\n",
    "        chat_service, settings = kernel.select_ai_service(type=ChatCompletionClientBase)\n",
    "        response = await chat_service.get_chat_message_content(chat_history=self.state.chat_history, settings=settings)\n",
    "\n",
    "    \n",
    "        await context.emit_event(process_event=\"generated_query\", data={'df':df,'code':str(response), 'input':user_input})\n",
    "\n",
    "\n",
    "# Step 2: Run Query Step\n",
    "class RunQueryStep(KernelProcessStep[DataFrameProcessState]):\n",
    "    state: DataFrameProcessState = Field(default_factory=DataFrameProcessState)\n",
    "\n",
    "    @kernel_function\n",
    "    async def run_query(self, context: KernelProcessStepContext,data:dict):\n",
    "        df=data['df']\n",
    "        code = data['code']\n",
    "        user_input=data['input']\n",
    "\n",
    "        print(f\"{RunQueryStep.__name__}\\n\\t Running Code {code}\")\n",
    "\n",
    "        try:\n",
    "            local_env = {\"df\": df, \"pd\": pd, \"np\": np}\n",
    "            # Execute the generated code\n",
    "            exec(code, local_env)\n",
    "            response = local_env.get(\"result\")\n",
    "        except Exception as e:\n",
    "            response = f\"Execution error: {e}\"\n",
    "\n",
    "        # Emit event for next step\n",
    "        await context.emit_event(process_event=\"query_ran\",data={'df':df,'results':str(response),'input':user_input})\n",
    "\n",
    "\n",
    "# Step 3: Explain Result Step\n",
    "class ExplainResultStep(KernelProcessStep[DataFrameProcessState]):\n",
    "    state: DataFrameProcessState = Field(default_factory=DataFrameProcessState)\n",
    "\n",
    "    @kernel_function\n",
    "    async def explain_result(self, context: KernelProcessStepContext, data:dict):\n",
    "        \n",
    "        query_result=data['results']\n",
    "        user_input = data['input']\n",
    "        \n",
    "        print(f\"{ExplainResultStep.__name__}\\n\\t Explain Results {query_result}\")\n",
    "\n",
    "        if self.state.chat_history is None:\n",
    "            self.state.chat_history = ChatHistory()\n",
    "\n",
    "        self.state.chat_history.add_user_message(user_input)\n",
    "\n",
    "        explanation_prompt = f\"You are a helpful assistant that answers the user's question given the returned data\\n\\n{query_result}\"\n",
    "\n",
    "        self.state.chat_history.add_user_message(explanation_prompt)\n",
    "\n",
    "        # Get the explanation from the chat service\n",
    "        chat_service, settings = kernel.select_ai_service(type=ChatCompletionClientBase)\n",
    "        response = await chat_service.get_chat_message_content(chat_history=self.state.chat_history, settings=settings)\n",
    "\n",
    "        print(response)\n",
    "\n",
    "        # Emit event to indicate process completion\n",
    "        await context.emit_event(\"__end__\")\n",
    "\n"
   ]
  },
  {
   "cell_type": "markdown",
   "id": "077b958e",
   "metadata": {},
   "source": [
    "### Define the process flow"
   ]
  },
  {
   "cell_type": "code",
   "execution_count": 4,
   "id": "c6829242",
   "metadata": {},
   "outputs": [],
   "source": [
    "\n",
    "# Create the process builder\n",
    "process_builder = ProcessBuilder(name=\"DataFrameQuery\")\n",
    "\n",
    "# Add the steps to the process\n",
    "query_step = process_builder.add_step(GenerateQueryStep)\n",
    "run_step = process_builder.add_step(RunQueryStep)\n",
    "explain_step = process_builder.add_step(ExplainResultStep)\n",
    "\n",
    "# Orchestrate the events between the steps\n",
    "process_builder.on_input_event(\"Start\").send_event_to(target=query_step)\n",
    "\n",
    "query_step.on_event(\"generated_query\").send_event_to(target=run_step, function_name=\"run_query\")\n",
    "\n",
    "run_step.on_event(\"query_ran\").send_event_to(target=explain_step, function_name=\"explain_result\")\n",
    "\n",
    "\n",
    "# Build the process\n",
    "kernel_process = process_builder.build()\n"
   ]
  },
  {
   "cell_type": "code",
   "execution_count": 5,
   "id": "f13e6e58",
   "metadata": {},
   "outputs": [
    {
     "data": {
      "image/svg+xml": [
       "<svg xmlns=\"http://www.w3.org/2000/svg\" xmlns:xlink=\"http://www.w3.org/1999/xlink\" id=\"mermaid-svg\" width=\"100%\" class=\"flowchart\" style=\"max-width: 219.203px; background-color: white;\" viewBox=\"0 0 219.203125 456\" role=\"graphics-document document\" aria-roledescription=\"flowchart-v2\"><style xmlns=\"http://www.w3.org/1999/xhtml\">@import url(&quot;https://cdnjs.cloudflare.com/ajax/libs/font-awesome/6.7.2/css/all.min.css&quot;);</style><style>#mermaid-svg{font-family:&quot;trebuchet ms&quot;,verdana,arial,sans-serif;font-size:16px;fill:#333;}@keyframes edge-animation-frame{from{stroke-dashoffset:0;}}@keyframes dash{to{stroke-dashoffset:0;}}#mermaid-svg .edge-animation-slow{stroke-dasharray:9,5!important;stroke-dashoffset:900;animation:dash 50s linear infinite;stroke-linecap:round;}#mermaid-svg .edge-animation-fast{stroke-dasharray:9,5!important;stroke-dashoffset:900;animation:dash 20s linear infinite;stroke-linecap:round;}#mermaid-svg .error-icon{fill:#552222;}#mermaid-svg .error-text{fill:#552222;stroke:#552222;}#mermaid-svg .edge-thickness-normal{stroke-width:1px;}#mermaid-svg .edge-thickness-thick{stroke-width:3.5px;}#mermaid-svg .edge-pattern-solid{stroke-dasharray:0;}#mermaid-svg .edge-thickness-invisible{stroke-width:0;fill:none;}#mermaid-svg .edge-pattern-dashed{stroke-dasharray:3;}#mermaid-svg .edge-pattern-dotted{stroke-dasharray:2;}#mermaid-svg .marker{fill:#333333;stroke:#333333;}#mermaid-svg .marker.cross{stroke:#333333;}#mermaid-svg svg{font-family:&quot;trebuchet ms&quot;,verdana,arial,sans-serif;font-size:16px;}#mermaid-svg p{margin:0;}#mermaid-svg .label{font-family:&quot;trebuchet ms&quot;,verdana,arial,sans-serif;color:#333;}#mermaid-svg .cluster-label text{fill:#333;}#mermaid-svg .cluster-label span{color:#333;}#mermaid-svg .cluster-label span p{background-color:transparent;}#mermaid-svg .label text,#mermaid-svg span{fill:#333;color:#333;}#mermaid-svg .node rect,#mermaid-svg .node circle,#mermaid-svg .node ellipse,#mermaid-svg .node polygon,#mermaid-svg .node path{fill:#ECECFF;stroke:#9370DB;stroke-width:1px;}#mermaid-svg .rough-node .label text,#mermaid-svg .node .label text,#mermaid-svg .image-shape .label,#mermaid-svg .icon-shape .label{text-anchor:middle;}#mermaid-svg .node .katex path{fill:#000;stroke:#000;stroke-width:1px;}#mermaid-svg .rough-node .label,#mermaid-svg .node .label,#mermaid-svg .image-shape .label,#mermaid-svg .icon-shape .label{text-align:center;}#mermaid-svg .node.clickable{cursor:pointer;}#mermaid-svg .root .anchor path{fill:#333333!important;stroke-width:0;stroke:#333333;}#mermaid-svg .arrowheadPath{fill:#333333;}#mermaid-svg .edgePath .path{stroke:#333333;stroke-width:2.0px;}#mermaid-svg .flowchart-link{stroke:#333333;fill:none;}#mermaid-svg .edgeLabel{background-color:rgba(232,232,232, 0.8);text-align:center;}#mermaid-svg .edgeLabel p{background-color:rgba(232,232,232, 0.8);}#mermaid-svg .edgeLabel rect{opacity:0.5;background-color:rgba(232,232,232, 0.8);fill:rgba(232,232,232, 0.8);}#mermaid-svg .labelBkg{background-color:rgba(232, 232, 232, 0.5);}#mermaid-svg .cluster rect{fill:#ffffde;stroke:#aaaa33;stroke-width:1px;}#mermaid-svg .cluster text{fill:#333;}#mermaid-svg .cluster span{color:#333;}#mermaid-svg div.mermaidTooltip{position:absolute;text-align:center;max-width:200px;padding:2px;font-family:&quot;trebuchet ms&quot;,verdana,arial,sans-serif;font-size:12px;background:hsl(80, 100%, 96.2745098039%);border:1px solid #aaaa33;border-radius:2px;pointer-events:none;z-index:100;}#mermaid-svg .flowchartTitleText{text-anchor:middle;font-size:18px;fill:#333;}#mermaid-svg rect.text{fill:none;stroke-width:0;}#mermaid-svg .icon-shape,#mermaid-svg .image-shape{background-color:rgba(232,232,232, 0.8);text-align:center;}#mermaid-svg .icon-shape p,#mermaid-svg .image-shape p{background-color:rgba(232,232,232, 0.8);padding:2px;}#mermaid-svg .icon-shape rect,#mermaid-svg .image-shape rect{opacity:0.5;background-color:rgba(232,232,232, 0.8);fill:rgba(232,232,232, 0.8);}#mermaid-svg :root{--mermaid-font-family:&quot;trebuchet ms&quot;,verdana,arial,sans-serif;}</style><g><marker id=\"mermaid-svg_flowchart-v2-pointEnd\" class=\"marker flowchart-v2\" viewBox=\"0 0 10 10\" refX=\"5\" refY=\"5\" markerUnits=\"userSpaceOnUse\" markerWidth=\"8\" markerHeight=\"8\" orient=\"auto\"><path d=\"M 0 0 L 10 5 L 0 10 z\" class=\"arrowMarkerPath\" style=\"stroke-width: 1; stroke-dasharray: 1, 0;\"/></marker><marker id=\"mermaid-svg_flowchart-v2-pointStart\" class=\"marker flowchart-v2\" viewBox=\"0 0 10 10\" refX=\"4.5\" refY=\"5\" markerUnits=\"userSpaceOnUse\" markerWidth=\"8\" markerHeight=\"8\" orient=\"auto\"><path d=\"M 0 5 L 10 10 L 10 0 z\" class=\"arrowMarkerPath\" style=\"stroke-width: 1; stroke-dasharray: 1, 0;\"/></marker><marker id=\"mermaid-svg_flowchart-v2-circleEnd\" class=\"marker flowchart-v2\" viewBox=\"0 0 10 10\" refX=\"11\" refY=\"5\" markerUnits=\"userSpaceOnUse\" markerWidth=\"11\" markerHeight=\"11\" orient=\"auto\"><circle cx=\"5\" cy=\"5\" r=\"5\" class=\"arrowMarkerPath\" style=\"stroke-width: 1; stroke-dasharray: 1, 0;\"/></marker><marker id=\"mermaid-svg_flowchart-v2-circleStart\" class=\"marker flowchart-v2\" viewBox=\"0 0 10 10\" refX=\"-1\" refY=\"5\" markerUnits=\"userSpaceOnUse\" markerWidth=\"11\" markerHeight=\"11\" orient=\"auto\"><circle cx=\"5\" cy=\"5\" r=\"5\" class=\"arrowMarkerPath\" style=\"stroke-width: 1; stroke-dasharray: 1, 0;\"/></marker><marker id=\"mermaid-svg_flowchart-v2-crossEnd\" class=\"marker cross flowchart-v2\" viewBox=\"0 0 11 11\" refX=\"12\" refY=\"5.2\" markerUnits=\"userSpaceOnUse\" markerWidth=\"11\" markerHeight=\"11\" orient=\"auto\"><path d=\"M 1,1 l 9,9 M 10,1 l -9,9\" class=\"arrowMarkerPath\" style=\"stroke-width: 2; stroke-dasharray: 1, 0;\"/></marker><marker id=\"mermaid-svg_flowchart-v2-crossStart\" class=\"marker cross flowchart-v2\" viewBox=\"0 0 11 11\" refX=\"-1\" refY=\"5.2\" markerUnits=\"userSpaceOnUse\" markerWidth=\"11\" markerHeight=\"11\" orient=\"auto\"><path d=\"M 1,1 l 9,9 M 10,1 l -9,9\" class=\"arrowMarkerPath\" style=\"stroke-width: 2; stroke-dasharray: 1, 0;\"/></marker><g class=\"root\"><g class=\"clusters\"/><g class=\"edgePaths\"><path d=\"M109.602,47L109.602,51.167C109.602,55.333,109.602,63.667,109.602,71.333C109.602,79,109.602,86,109.602,89.5L109.602,93\" id=\"L_A_B_0\" class=\" edge-thickness-normal edge-pattern-solid edge-thickness-normal edge-pattern-solid flowchart-link\" style=\"\" marker-end=\"url(#mermaid-svg_flowchart-v2-pointEnd)\"/><path d=\"M109.602,151L109.602,155.167C109.602,159.333,109.602,167.667,109.602,175.333C109.602,183,109.602,190,109.602,193.5L109.602,197\" id=\"L_B_C_0\" class=\" edge-thickness-normal edge-pattern-solid edge-thickness-normal edge-pattern-solid flowchart-link\" style=\"\" marker-end=\"url(#mermaid-svg_flowchart-v2-pointEnd)\"/><path d=\"M109.602,255L109.602,259.167C109.602,263.333,109.602,271.667,109.602,279.333C109.602,287,109.602,294,109.602,297.5L109.602,301\" id=\"L_C_D_0\" class=\" edge-thickness-normal edge-pattern-solid edge-thickness-normal edge-pattern-solid flowchart-link\" style=\"\" marker-end=\"url(#mermaid-svg_flowchart-v2-pointEnd)\"/><path d=\"M109.602,359L109.602,363.167C109.602,367.333,109.602,375.667,109.602,383.333C109.602,391,109.602,398,109.602,401.5L109.602,405\" id=\"L_D_Z_0\" class=\" edge-thickness-normal edge-pattern-solid edge-thickness-normal edge-pattern-solid flowchart-link\" style=\"\" marker-end=\"url(#mermaid-svg_flowchart-v2-pointEnd)\"/></g><g class=\"edgeLabels\"><g class=\"edgeLabel\"><g class=\"label\" transform=\"translate(0, 0)\"><foreignObject width=\"0\" height=\"0\"><div xmlns=\"http://www.w3.org/1999/xhtml\" class=\"labelBkg\" style=\"display: table-cell; white-space: nowrap; line-height: 1.5; max-width: 200px; text-align: center;\"><span class=\"edgeLabel \"/></div></foreignObject></g></g><g class=\"edgeLabel\"><g class=\"label\" transform=\"translate(0, 0)\"><foreignObject width=\"0\" height=\"0\"><div xmlns=\"http://www.w3.org/1999/xhtml\" class=\"labelBkg\" style=\"display: table-cell; white-space: nowrap; line-height: 1.5; max-width: 200px; text-align: center;\"><span class=\"edgeLabel \"/></div></foreignObject></g></g><g class=\"edgeLabel\"><g class=\"label\" transform=\"translate(0, 0)\"><foreignObject width=\"0\" height=\"0\"><div xmlns=\"http://www.w3.org/1999/xhtml\" class=\"labelBkg\" style=\"display: table-cell; white-space: nowrap; line-height: 1.5; max-width: 200px; text-align: center;\"><span class=\"edgeLabel \"/></div></foreignObject></g></g><g class=\"edgeLabel\"><g class=\"label\" transform=\"translate(0, 0)\"><foreignObject width=\"0\" height=\"0\"><div xmlns=\"http://www.w3.org/1999/xhtml\" class=\"labelBkg\" style=\"display: table-cell; white-space: nowrap; line-height: 1.5; max-width: 200px; text-align: center;\"><span class=\"edgeLabel \"/></div></foreignObject></g></g></g><g class=\"nodes\"><g class=\"node default  \" id=\"flowchart-A-0\" transform=\"translate(109.6015625, 27.5)\"><rect class=\"basic label-container\" style=\"\" rx=\"19.5\" ry=\"19.5\" x=\"-29.2734375\" y=\"-19.5\" width=\"58.546875\" height=\"39\"/><g class=\"label\" style=\"\" transform=\"translate(-16.8984375, -12)\"><rect/><foreignObject width=\"33.796875\" height=\"24\"><div xmlns=\"http://www.w3.org/1999/xhtml\" style=\"display: table-cell; white-space: nowrap; line-height: 1.5; max-width: 200px; text-align: center;\"><span class=\"nodeLabel \"><p>Start</p></span></div></foreignObject></g></g><g class=\"node default  \" id=\"flowchart-B-2\" transform=\"translate(109.6015625, 124)\"><rect class=\"basic label-container\" style=\"\" x=\"-101.6015625\" y=\"-27\" width=\"203.203125\" height=\"54\"/><g class=\"label\" style=\"\" transform=\"translate(-71.6015625, -12)\"><rect/><foreignObject width=\"143.203125\" height=\"24\"><div xmlns=\"http://www.w3.org/1999/xhtml\" style=\"display: table-cell; white-space: nowrap; line-height: 1.5; max-width: 200px; text-align: center;\"><span class=\"nodeLabel \"><p>GenerateQueryStep</p></span></div></foreignObject></g></g><g class=\"node default  \" id=\"flowchart-C-4\" transform=\"translate(109.6015625, 228)\"><rect class=\"basic label-container\" style=\"\" x=\"-82.921875\" y=\"-27\" width=\"165.84375\" height=\"54\"/><g class=\"label\" style=\"\" transform=\"translate(-52.921875, -12)\"><rect/><foreignObject width=\"105.84375\" height=\"24\"><div xmlns=\"http://www.w3.org/1999/xhtml\" style=\"display: table-cell; white-space: nowrap; line-height: 1.5; max-width: 200px; text-align: center;\"><span class=\"nodeLabel \"><p>RunQueryStep</p></span></div></foreignObject></g></g><g class=\"node default  \" id=\"flowchart-D-6\" transform=\"translate(109.6015625, 332)\"><rect class=\"basic label-container\" style=\"\" x=\"-95.375\" y=\"-27\" width=\"190.75\" height=\"54\"/><g class=\"label\" style=\"\" transform=\"translate(-65.375, -12)\"><rect/><foreignObject width=\"130.75\" height=\"24\"><div xmlns=\"http://www.w3.org/1999/xhtml\" style=\"display: table-cell; white-space: nowrap; line-height: 1.5; max-width: 200px; text-align: center;\"><span class=\"nodeLabel \"><p>ExplainResultStep</p></span></div></foreignObject></g></g><g class=\"node default  \" id=\"flowchart-Z-8\" transform=\"translate(109.6015625, 428.5)\"><rect class=\"basic label-container\" style=\"\" rx=\"19.5\" ry=\"19.5\" x=\"-26.609375\" y=\"-19.5\" width=\"53.21875\" height=\"39\"/><g class=\"label\" style=\"\" transform=\"translate(-14.234375, -12)\"><rect/><foreignObject width=\"28.46875\" height=\"24\"><div xmlns=\"http://www.w3.org/1999/xhtml\" style=\"display: table-cell; white-space: nowrap; line-height: 1.5; max-width: 200px; text-align: center;\"><span class=\"nodeLabel \"><p>End</p></span></div></foreignObject></g></g></g></g></g></svg>"
      ],
      "text/plain": [
       "<IPython.core.display.SVG object>"
      ]
     },
     "metadata": {},
     "output_type": "display_data"
    }
   ],
   "source": [
    "\n",
    "try:\n",
    "    display(SVG(draw_kernel_process_mermaid(kernel_process)))\n",
    "except Exception as e:\n",
    "    print(\"⚠️ Unable to display the graph visualization. This won't affect the rest of the notebook.\")\n",
    "    print(f\"Reason: {e}\")"
   ]
  },
  {
   "cell_type": "markdown",
   "id": "1217f35e",
   "metadata": {},
   "source": [
    "### Load Data From Azure Storage Account"
   ]
  },
  {
   "cell_type": "code",
   "execution_count": 6,
   "id": "d297de36",
   "metadata": {},
   "outputs": [],
   "source": [
    "df = get_datafame_from_storage('data/usage.parquet')"
   ]
  },
  {
   "cell_type": "code",
   "execution_count": 7,
   "id": "f52ab50c",
   "metadata": {},
   "outputs": [
    {
     "name": "stdout",
     "output_type": "stream",
     "text": [
      "GenerateQueryStep\n",
      "\t Generating Query for Return Average Data Center Temperatures?\n",
      "RunQueryStep\n",
      "\t Running Code result = df['temperature_c'].mean()\n",
      "ExplainResultStep\n",
      "\t Explain Results 24.6198\n",
      "The average data center temperature provided is **24.62°C** (rounded to two decimal places).\n"
     ]
    }
   ],
   "source": [
    "\n",
    "\n",
    "user_input = \"Return Average Data Center Temperatures?\"\n",
    "\n",
    "\n",
    "# Starting the kernel process with the initial state\n",
    "async with await start(\n",
    "    process=kernel_process,\n",
    "    kernel=kernel,\n",
    "    initial_event=KernelProcessEvent(id=\"Start\", data={'df':df,'input':user_input}),\n",
    ") as process_context:\n",
    "    _ = await process_context.get_state()"
   ]
  },
  {
   "cell_type": "code",
   "execution_count": 8,
   "id": "956240b1",
   "metadata": {},
   "outputs": [
    {
     "name": "stdout",
     "output_type": "stream",
     "text": [
      "GenerateQueryStep\n",
      "\t Generating Query for Return Average Data Center Temperatures?\n",
      "RunQueryStep\n",
      "\t Running Code result = df.groupby('data_center_id')['temperature_c'].mean()\n",
      "ExplainResultStep\n",
      "\t Explain Results data_center_id\n",
      "DC-CHI2    24.116739\n",
      "DC-NYC1    25.283846\n",
      "DC-OMA1    24.829643\n",
      "Name: temperature_c, dtype: float64\n",
      "To calculate the average temperature across all the data centers, you find the mean of the given temperatures:\n",
      "\n",
      "- DC-CHI2: 24.116739°C\n",
      "- DC-NYC1: 25.283846°C\n",
      "- DC-OMA1: 24.829643°C\n",
      "\n",
      "**Average temperature = (24.116739 + 25.283846 + 24.829643) / 3**\n",
      "\n",
      "**Average temperature = 74.230228 / 3**\n",
      "\n",
      "**Average temperature ≈ 24.7434°C**\n",
      "\n",
      "The average temperature across the data centers is approximately **24.74°C**.\n"
     ]
    }
   ],
   "source": [
    "\n",
    "user_input = \"Return Average Data Center Temperatures?\"\n",
    "\n",
    "\n",
    "# Starting the kernel process with the initial state\n",
    "async with await start(\n",
    "    process=kernel_process,\n",
    "    kernel=kernel,\n",
    "    initial_event=KernelProcessEvent(id=\"Start\", data={'df':df,'input':user_input}),\n",
    ") as process_context:\n",
    "    _ = await process_context.get_state()"
   ]
  }
 ],
 "metadata": {
  "kernelspec": {
   "display_name": ".venv",
   "language": "python",
   "name": "python3"
  },
  "language_info": {
   "codemirror_mode": {
    "name": "ipython",
    "version": 3
   },
   "file_extension": ".py",
   "mimetype": "text/x-python",
   "name": "python",
   "nbconvert_exporter": "python",
   "pygments_lexer": "ipython3",
   "version": "3.12.10"
  }
 },
 "nbformat": 4,
 "nbformat_minor": 5
}
