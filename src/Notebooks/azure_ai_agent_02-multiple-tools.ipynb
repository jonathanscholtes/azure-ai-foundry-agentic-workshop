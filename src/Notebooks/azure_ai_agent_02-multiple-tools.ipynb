{
 "cells": [
  {
   "cell_type": "code",
   "execution_count": 25,
   "id": "f726bd31",
   "metadata": {},
   "outputs": [],
   "source": [
    "! pip install -r requirements.txt --quiet"
   ]
  },
  {
   "cell_type": "markdown",
   "id": "460ecb91",
   "metadata": {},
   "source": [
    "# Creating and Deploying an Azure AI Agent Using SDK and Multiple Tools\n",
    "\n",
    "This notebook demonstrates how to create and deploy an Azure AI Agent using the Azure SDK, with tools generated from an OpenAPI endpoint and Azure AI Search. It provides a coded example that mirrors the portal example demonstrated in this workshop, offering a programmatic approach to deploying agents with OpenAPI-driven tools.\n",
    "\n",
    "\n",
    "🔗 [How to use Azure AI Agent Service with OpenAPI Specified Tools](https://learn.microsoft.com/en-us/azure/ai-services/agents/how-to/tools/openapi-spec?tabs=python&pivots=code-example)\n",
    "\n",
    "🔗 [Use an existing AI Search index with the Azure AI Search tool](https://learn.microsoft.com/en-us/azure/ai-services/agents/how-to/tools/azure-ai-search?tabs=azurecli%2Cpython&pivots=code-examples)"
   ]
  },
  {
   "cell_type": "code",
   "execution_count": 1,
   "id": "1b478234",
   "metadata": {},
   "outputs": [
    {
     "data": {
      "text/plain": [
       "True"
      ]
     },
     "execution_count": 1,
     "metadata": {},
     "output_type": "execute_result"
    }
   ],
   "source": [
    "\n",
    "from os import environ\n",
    "from dotenv import load_dotenv\n",
    "import jsonref\n",
    "from azure.ai.projects import AIProjectClient\n",
    "from azure.identity import DefaultAzureCredential\n",
    "from azure.ai.projects.models import OpenApiTool, OpenApiAnonymousAuthDetails,AzureAISearchTool,AzureAISearchQueryType,ToolSet\n",
    "import requests\n",
    "\n",
    "load_dotenv(override=True)"
   ]
  },
  {
   "cell_type": "markdown",
   "id": "0a862bfa",
   "metadata": {},
   "source": [
    "## Create a project client"
   ]
  },
  {
   "cell_type": "code",
   "execution_count": 2,
   "id": "36653bcd",
   "metadata": {},
   "outputs": [],
   "source": [
    "project_client = AIProjectClient.from_connection_string(\n",
    "    credential=DefaultAzureCredential(),\n",
    "    conn_str=environ[\"AZURE_AI_PROJECT_CONNECTION_STRING\"],\n",
    ")"
   ]
  },
  {
   "cell_type": "markdown",
   "id": "4581ee78",
   "metadata": {},
   "source": [
    "## Create the OpenAPI Spec tool definition\n",
    "\n",
    "Our Agent will create its tools from our deployed OpenAPI endpoints, for this to work we will need to pass in the openapi.json spec document."
   ]
  },
  {
   "cell_type": "code",
   "execution_count": 3,
   "id": "a2dce8f5",
   "metadata": {},
   "outputs": [],
   "source": [
    "spec_url = environ['OPENAPI_URL']\n",
    "response = requests.get(spec_url)\n",
    "response.raise_for_status()\n",
    "\n",
    "\n",
    "openapi_spec = response.json()\n",
    "\n",
    "auth = OpenApiAnonymousAuthDetails()\n",
    "\n",
    "openapi = OpenApiTool(name=\"get_energy_usage\", spec=openapi_spec, description=\"Retrieve data center energy, power, or consumption topic\", auth=auth)\n"
   ]
  },
  {
   "cell_type": "markdown",
   "id": "b127377c",
   "metadata": {},
   "source": [
    "## Create the Azure AI Search tool definition"
   ]
  },
  {
   "cell_type": "code",
   "execution_count": 4,
   "id": "389d27db",
   "metadata": {},
   "outputs": [
    {
     "data": {
      "text/plain": [
       "<azure.ai.projects.models._patch.ConnectionProperties at 0x2524964a6c0>"
      ]
     },
     "execution_count": 4,
     "metadata": {},
     "output_type": "execute_result"
    }
   ],
   "source": [
    "project_client.connections.get(connection_name='hub-foundry-lab-s48waambmtn8-connection-AzureAISearch')"
   ]
  },
  {
   "cell_type": "code",
   "execution_count": 6,
   "id": "fdaa758a",
   "metadata": {},
   "outputs": [
    {
     "name": "stdout",
     "output_type": "stream",
     "text": [
      "{'ApiType': 'Azure', 'ResourceId': '/subscriptions/71dcf7f8-6dda-4243-a84c-88833a4d8278/resourceGroups/rg-foundry-lab-eastus2-s48waambmtn8/providers/Microsoft.Search/searchServices/srch-foundry-lab-s48waambmtn8', 'ApiVersion': '2024-05-01-preview', 'DeploymentApiVersion': '2023-11-01'}\n"
     ]
    }
   ],
   "source": [
    "# Extract the connection list.\n",
    "conn_list = project_client.connections._list_connections()[\"value\"]\n",
    "conn_id = \"\"\n",
    "\n",
    "# Search in the metadata field of each connection in the list for the azure_ai_search type and get the id value to establish the variable\n",
    "for conn in conn_list:\n",
    "    metadata = conn[\"properties\"].get(\"metadata\", {})\n",
    "    print(metadata)\n",
    "    if 'searchServices' in metadata.get(\"ResourceId\", \"\"):\n",
    "        conn_id = conn[\"id\"]\n",
    "        break\n",
    "\n",
    "ai_search = AzureAISearchTool( index_connection_id=conn_id, index_name=environ['AZURE_AI_SEARCH_INDEX'],query_type= AzureAISearchQueryType.VECTOR_SIMPLE_HYBRID)"
   ]
  },
  {
   "cell_type": "markdown",
   "id": "907444e4",
   "metadata": {},
   "source": [
    "## Create an agent and a thread"
   ]
  },
  {
   "cell_type": "code",
   "execution_count": 7,
   "id": "ee7bf68c",
   "metadata": {},
   "outputs": [
    {
     "name": "stdout",
     "output_type": "stream",
     "text": [
      "Created agent, ID: asst_2xc4Pmgo0aUsKCrASXYRFLqh\n",
      "Created thread, ID: thread_aUXwg3P7ovz7LpLiEF6Tsp2t\n"
     ]
    }
   ],
   "source": [
    "instructions =  \"\"\"\n",
    "You are a helpful and knowledgeable assistant that helps users understand and monitor data center energy usage.\n",
    "\n",
    "Use the provided tools to retrieve accurate, real-time, and historical data on energy consumption, efficiency metrics (such as PUE), carbon footprint, and resource utilization across different data center regions or racks. These tools include:\n",
    "- An energy data tool that provides structured metrics and time-series data.\n",
    "- A document lookup tool that retrieves relevant information from a vector store of technical documents and operational reports.\n",
    "\n",
    "Always respond with concise and clear summaries, including units of measurement (e.g., kWh, %, kg CO₂e). If applicable, compare usage across regions or time ranges to highlight trends or inefficiencies.\n",
    "\n",
    "Only respond if the requested information is found using the tools. If the user asks something unrelated to data center energy or the answer cannot be retrieved from the available tools, respond with:\n",
    "\"I'm unable to find that information based on the current data.\"\n",
    "\"\"\"\n",
    "\n",
    "toolset = ToolSet()\n",
    "toolset.add(openapi)\n",
    "toolset.add(ai_search)\n",
    "\n",
    "agent = project_client.agents.create_agent(\n",
    "    model=\"gpt-4o\",\n",
    "    name=\"Data Center Agent\",\n",
    "    instructions=instructions,\n",
    "    toolset=toolset\n",
    ")\n",
    "\n",
    "\n",
    "print(f\"Created agent, ID: {agent.id}\")\n",
    "\n",
    "# Create thread for communication\n",
    "thread = project_client.agents.create_thread()\n",
    "print(f\"Created thread, ID: {thread.id}\")\n",
    "\n"
   ]
  },
  {
   "cell_type": "markdown",
   "id": "e80046d0",
   "metadata": {},
   "source": [
    "## Create a run and check the output"
   ]
  },
  {
   "cell_type": "code",
   "execution_count": 8,
   "id": "d2054366",
   "metadata": {},
   "outputs": [
    {
     "name": "stdout",
     "output_type": "stream",
     "text": [
      "Created message, ID: msg_IGGLHAnHI7ePMD0yv2iXhVom\n",
      "Run finished with status: RunStatus.COMPLETED\n",
      "Messages: {'object': 'list', 'data': [{'id': 'msg_eCMLl3BxzSYLx7MfgzwFTqXR', 'object': 'thread.message', 'created_at': 1746140996, 'assistant_id': 'asst_2xc4Pmgo0aUsKCrASXYRFLqh', 'thread_id': 'thread_aUXwg3P7ovz7LpLiEF6Tsp2t', 'run_id': 'run_WrOhThVtc6672TqkB4fIvykS', 'role': 'assistant', 'content': [{'type': 'text', 'text': {'value': 'The data center currently with the highest CO₂ emissions is **DC-CHI2** (Zone C3), which has recorded emissions of **153.31 kg CO₂e**. It is followed by **DC-NYC1** (Zone B2) emitting **118.07 kg CO₂e**. These centers are likely experiencing increased power draw, non-renewable energy usage, or operational inefficiencies affecting emissions.', 'annotations': []}}], 'attachments': [], 'metadata': {}}, {'id': 'msg_IGGLHAnHI7ePMD0yv2iXhVom', 'object': 'thread.message', 'created_at': 1746140991, 'assistant_id': None, 'thread_id': 'thread_aUXwg3P7ovz7LpLiEF6Tsp2t', 'run_id': None, 'role': 'user', 'content': [{'type': 'text', 'text': {'value': 'What data centers have the highest co2 emissions?', 'annotations': []}}], 'attachments': [], 'metadata': {}}], 'first_id': 'msg_eCMLl3BxzSYLx7MfgzwFTqXR', 'last_id': 'msg_IGGLHAnHI7ePMD0yv2iXhVom', 'has_more': False}\n"
     ]
    }
   ],
   "source": [
    "message = project_client.agents.create_message(\n",
    "    thread_id=thread.id,\n",
    "    role=\"user\",\n",
    "    content=\"What data centers have the highest co2 emissions?\",\n",
    ")\n",
    "print(f\"Created message, ID: {message.id}\")\n",
    "\n",
    "# Create and process agent run in thread with tools\n",
    "run = project_client.agents.create_and_process_run(thread_id=thread.id, agent_id=agent.id)\n",
    "print(f\"Run finished with status: {run.status}\")\n",
    "\n",
    "if run.status == \"failed\":\n",
    "    print(f\"Run failed: {run.last_error}\")\n",
    "\n",
    "# Fetch and log all messages\n",
    "messages = project_client.agents.list_messages(thread_id=thread.id)\n",
    "print(f\"Messages: {messages}\")"
   ]
  },
  {
   "cell_type": "markdown",
   "id": "46ac735e",
   "metadata": {},
   "source": [
    "## Delete the assistant when done\n",
    "\n",
    "Comment the code below to save the agent to your Azure AI Froundry project.\n"
   ]
  },
  {
   "cell_type": "code",
   "execution_count": null,
   "id": "92acf369",
   "metadata": {},
   "outputs": [],
   "source": [
    "\n",
    "project_client.agents.delete_agent(agent.id)\n",
    "print(\"Deleted agent\")"
   ]
  }
 ],
 "metadata": {
  "kernelspec": {
   "display_name": ".venv",
   "language": "python",
   "name": "python3"
  },
  "language_info": {
   "codemirror_mode": {
    "name": "ipython",
    "version": 3
   },
   "file_extension": ".py",
   "mimetype": "text/x-python",
   "name": "python",
   "nbconvert_exporter": "python",
   "pygments_lexer": "ipython3",
   "version": "3.12.10"
  }
 },
 "nbformat": 4,
 "nbformat_minor": 5
}
