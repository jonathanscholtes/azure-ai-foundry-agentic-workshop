{
 "cells": [
  {
   "cell_type": "code",
   "execution_count": 8,
   "id": "f08b39e2",
   "metadata": {},
   "outputs": [],
   "source": [
    "! pip install -r requirements.txt --quiet"
   ]
  },
  {
   "cell_type": "markdown",
   "id": "4630ad8e",
   "metadata": {},
   "source": [
    "# Supervisor Agent with Specialized Agents, Azure AI Search, and Evaluation SDK\n",
    "\n",
    "This notebook introduces a **supervisor agent** that orchestrates multiple specialized agents to solve complex tasks. It leverages vectorized data from **Azure AI Search** for grounding, ensuring context-aware responses. The workflow is evaluated using the **Azure AI Evaluation SDK**, which measures the coherence and groundedness of the agent outputs. Additionally, **agent traces** are captured and visualized by logging graph invocations with **Azure AI Inference Tracer**.\n",
    "\n",
    "- Orchestrate multiple specialized agents using a **supervisor agent** to handle complex tasks.\n",
    "- Utilize **Azure AI Search** for vectorized data to ensure context-aware responses.\n",
    "- Evaluate agent performance using the **Azure AI Evaluation SDK** to assess coherence and groundedness.\n",
    "- Capture and visualize **agent traces** with **Azure AI Inference Tracer** for deeper insights into agent behavior.\n",
    "\n",
    "🔗 [LangGraph Multi-agent Supervisor](https://langchain-ai.github.io/langgraph/tutorials/multi_agent/agent_supervisor/)"
   ]
  },
  {
   "cell_type": "code",
   "execution_count": 25,
   "id": "0b53467d",
   "metadata": {},
   "outputs": [],
   "source": [
    "from dotenv import load_dotenv\n",
    "from os import environ\n",
    "from langchain_openai import AzureChatOpenAI\n",
    "from typing_extensions import TypedDict,Literal\n",
    "from langgraph.types import Command\n",
    "from langgraph.graph import MessagesState, StateGraph, START, END\n",
    "from IPython.display import Image, display\n",
    "from langgraph.prebuilt import ToolNode\n",
    "from  user_tools import get_weather_tool\n",
    "from user_functions import vector_search  \n",
    "from utils import pretty_print_messages,extract_graph_response\n",
    "from langchain_core.messages import HumanMessage,SystemMessage\n",
    "from langgraph.prebuilt import create_react_agent\n",
    "\n",
    "from azure.ai.projects import AIProjectClient\n",
    "from azure.identity import DefaultAzureCredential\n",
    "from langchain_azure_ai.callbacks.tracers import AzureAIInferenceTracer\n",
    "\n",
    "load_dotenv(override=True)\n",
    "\n",
    "\n",
    "\n",
    "members = [\"document_search\", \"weather\"]\n",
    "\n",
    "options = members + [\"FINISH\"]\n",
    "\n",
    "system_prompt = (\n",
    "    \"You are a supervisor tasked with managing a conversation between the\"\n",
    "    f\" following workers: {members}. Given the following user request,\"\n",
    "    \" respond with the worker to act next. Each worker will perform a\"\n",
    "    \" task and respond with their results and status. When finished,\"\n",
    "    \" respond with FINISH.\"\n",
    ")\n",
    "\n",
    "class Router(TypedDict):\n",
    "    \"\"\"Worker to route to next. If no workers needed, route to FINISH.\"\"\"\n",
    "\n",
    "    next: Literal[*options]\n",
    "\n",
    "\n",
    "llm = AzureChatOpenAI(\n",
    "        temperature=0,\n",
    "        azure_deployment=environ[\"AZURE_OPENAI_MODEL\"],\n",
    "        api_version=environ[\"AZURE_OPENAI_API_VERSION\"]\n",
    "    )\n",
    "\n",
    "\n",
    "llm_with_tools = create_react_agent(llm, tools=[get_weather_tool])\n",
    "\n"
   ]
  },
  {
   "cell_type": "markdown",
   "id": "87f29764",
   "metadata": {},
   "source": [
    "## Configure tracing for Azure AI Foundry\n",
    "\n",
    "You can use the tracing capabilities in Azure AI Foundry by creating a tracer. Logs are stored in Azure Application Insights and can be queried at any time using Azure Monitor or Azure AI Foundry portal. Each AI Hub has an Azure Application Insights associated with it\n",
    "\n",
    "🔗 [Azure AI Foundry Tracing LangChain](https://learn.microsoft.com/en-us/azure/ai-foundry/how-to/develop/langchain#tracing)"
   ]
  },
  {
   "cell_type": "code",
   "execution_count": 26,
   "id": "ab02a9c2",
   "metadata": {},
   "outputs": [],
   "source": [
    "project_client = AIProjectClient.from_connection_string(\n",
    "    credential=DefaultAzureCredential(),\n",
    "    conn_str=environ[\"AZURE_AI_PROJECT_CONNECTION_STRING\"],\n",
    ")\n",
    "\n",
    "application_insights_connection_string = project_client.telemetry.get_connection_string()\n",
    "\n",
    "tracer = AzureAIInferenceTracer(\n",
    "    connection_string=application_insights_connection_string,\n",
    "    enable_content_recording=True,\n",
    ")"
   ]
  },
  {
   "cell_type": "code",
   "execution_count": 27,
   "id": "6e6a186a",
   "metadata": {},
   "outputs": [],
   "source": [
    "def document_search(state: MessagesState) -> Command[Literal[\"supervisor\"]]:\n",
    "    messages = state[\"messages\"]\n",
    "    last_user_message = next((msg for msg in reversed(messages)), None)\n",
    "    if not last_user_message:\n",
    "        return Command(goto=\"supervisor\")\n",
    "\n",
    "    query = last_user_message.content\n",
    "    context = vector_search(query)  \n",
    "\n",
    "    \n",
    "    messages.append(\n",
    "    SystemMessage(\n",
    "        content=(\n",
    "            f\"You are a helpful assistant. Use only the information in the context below to answer the user's question. \"\n",
    "            f\"If the context does not contain the answer, respond with \\\"I don't know.\\\"\\n\\nContext:\\n{context}\"\n",
    "        )\n",
    "    )\n",
    ")\n",
    "\n",
    "    response = llm.invoke(messages)\n",
    "\n",
    "    return Command(\n",
    "        update={\n",
    "            \"messages\": [\n",
    "                HumanMessage(content=response.content, name=\"document_search\")\n",
    "            ]\n",
    "        },\n",
    "        goto=\"supervisor\",\n",
    "    )\n",
    "\n",
    "\n",
    "def weather(state: MessagesState) -> Command[Literal[\"supervisor\"]]:\n",
    "    result = llm_with_tools.invoke(state)\n",
    "    return Command(\n",
    "        update={\n",
    "            \"messages\": [\n",
    "                HumanMessage(content=result[\"messages\"][-1].content, name=\"weather\")\n",
    "            ]\n",
    "        },\n",
    "        goto=\"supervisor\",\n",
    "    )\n",
    "\n",
    "def supervisor(state: MessagesState) -> Command[Literal[*members, \"__end__\"]]:\n",
    "    messages = [\n",
    "        {\"role\": \"system\", \"content\": system_prompt},\n",
    "    ] + state[\"messages\"]\n",
    "    response = llm.with_structured_output(Router).invoke(messages)\n",
    "    goto = response[\"next\"]\n",
    "    if goto == \"FINISH\":\n",
    "        goto = END\n",
    "\n",
    "    return Command(goto=goto, update={\"next\": goto})\n",
    "\n"
   ]
  },
  {
   "cell_type": "code",
   "execution_count": 28,
   "id": "e79400e4",
   "metadata": {},
   "outputs": [],
   "source": [
    "\n",
    "builder = StateGraph(MessagesState)\n",
    "builder.add_node(\"document_search\", document_search)\n",
    "builder.add_node(\"weather\", weather)\n",
    "builder.add_node(\"supervisor\", supervisor)\n",
    "\n",
    "builder.set_entry_point(\"supervisor\")\n",
    "\n",
    "graph = builder.compile()\n"
   ]
  },
  {
   "cell_type": "code",
   "execution_count": 29,
   "id": "0204c509",
   "metadata": {},
   "outputs": [
    {
     "data": {
      "image/png": "[encoded data removed]",
      "text/plain": [
       "<IPython.core.display.Image object>"
      ]
     },
     "metadata": {},
     "output_type": "display_data"
    }
   ],
   "source": [
    "try:\n",
    "    display(Image(graph.get_graph().draw_mermaid_png()))\n",
    "except Exception as e:\n",
    "    print(\"⚠️ Unable to display the graph visualization. This won't affect the rest of the notebook.\")\n",
    "    print(f\"Reason: {e}\")"
   ]
  },
  {
   "cell_type": "code",
   "execution_count": 30,
   "id": "ce6d2dc2",
   "metadata": {},
   "outputs": [
    {
     "name": "stdout",
     "output_type": "stream",
     "text": [
      "Update from node supervisor:\n",
      "\n",
      "\n",
      "\n",
      "\n",
      "Update from node document_search:\n",
      "\n",
      "\n",
      "================================\u001b[1m Human Message \u001b[0m=================================\n",
      "Name: document_search\n",
      "\n",
      "The resource intensity of data center facility infrastructure is described using two key metrics: **Power Usage Effectiveness (PUE)** and **Water Usage Effectiveness (WUE)**. \n",
      "\n",
      "- **PUE** is defined as the total electricity demand of the data center divided by the electricity demand of the IT equipment. It is dimensionless (kWh/kWh) and reflects the efficiency of the facility's energy use.\n",
      "- **WUE** is defined as the total water consumption of the data center divided by the electricity demand of the IT equipment. It is reported in liters per kWh and primarily accounts for on-site water consumption associated with cooling infrastructure.\n",
      "\n",
      "These metrics are influenced by factors such as cooling systems, operational practices, and climatic conditions. Additionally, indirect resource impacts, such as water consumption and greenhouse gas emissions from electricity generation, contribute to the overall resource intensity. For example, in 2023, U.S. data centers had an average indirect water consumption of 4.52 liters per kWh and emitted 0.34 kg of CO₂ equivalent per kWh due to electricity use.\n",
      "\n",
      "\n",
      "Update from node supervisor:\n",
      "\n",
      "\n",
      "\n",
      "\n"
     ]
    }
   ],
   "source": [
    "for step in graph.stream({\"messages\": [{\"role\": \"user\", \"content\": \"Describe the resource intensity of data center facility infrastructure\"}]},config={\"callbacks\": [tracer]}):\n",
    "   pretty_print_messages(step)"
   ]
  },
  {
   "cell_type": "code",
   "execution_count": 31,
   "id": "d6fa4e4d",
   "metadata": {},
   "outputs": [
    {
     "name": "stdout",
     "output_type": "stream",
     "text": [
      "Update from node supervisor:\n",
      "\n",
      "\n",
      "\n",
      "\n",
      "Update from node weather:\n",
      "\n",
      "\n",
      "================================\u001b[1m Human Message \u001b[0m=================================\n",
      "Name: weather\n",
      "\n",
      "The weather in San Francisco is currently 60°F and foggy.\n",
      "\n",
      "\n",
      "Update from node supervisor:\n",
      "\n",
      "\n",
      "\n",
      "\n"
     ]
    }
   ],
   "source": [
    "for step in graph.stream({\"messages\": [{\"role\": \"user\", \"content\": \"what is the weather in sf\"}]},config={\"callbacks\": [tracer]}):\n",
    "   pretty_print_messages(step)"
   ]
  },
  {
   "cell_type": "markdown",
   "id": "a5a3343d",
   "metadata": {},
   "source": [
    "## Introduction to Evaluation with the Azure AI SDK\n",
    "\n",
    "Evaluation is a critical part of building reliable and trustworthy generative AI applications. It ensures that AI outputs are grounded, coherent, and aligned with the intended context, helping to prevent issues like fabrication, irrelevance, and harmful content.\n",
    "\n",
    "The **Azure AI Evaluation SDK** allows you to systematically evaluate the performance of your AI workflows directly in your development environment. This helps build confidence in your application's behavior before deploying it to users.\n",
    "\n",
    "In this example, we will use the **GroundednessEvaluator** and **CoherenceEvaluator** from the Azure AI Evaluation SDK to assess the outputs of our existing **LangGraph**-based agent. These evaluators will help us measure how well the agent’s responses stay true to the source context and maintain logical flow throughout the conversation.\n",
    "\n",
    "\n",
    "🔗 [Evaluate your Generative AI application locally with the Azure AI Evaluation SDK](https://learn.microsoft.com/en-us/azure/ai-foundry/how-to/develop/evaluate-sdk)"
   ]
  },
  {
   "cell_type": "code",
   "execution_count": 32,
   "id": "aa6d6b8e",
   "metadata": {},
   "outputs": [],
   "source": [
    "from azure.ai.evaluation import GroundednessEvaluator,CoherenceEvaluator\n",
    "\n",
    "\n",
    "model_config = {\n",
    "    \"azure_endpoint\": environ[\"AZURE_OPENAI_ENDPOINT\"],\n",
    "    \"api_key\": environ[\"AZURE_OPENAI_API_KEY\"],\n",
    "    \"azure_deployment\": environ[\"AZURE_OPENAI_MODEL\"],\n",
    "    \"api_version\": environ[\"AZURE_OPENAI_API_VERSION\"],\n",
    "}\n",
    "\n",
    "# Initialize Evaluators\n",
    "groundedness_eval = GroundednessEvaluator(model_config=model_config)\n",
    "coherence_eval = CoherenceEvaluator(model_config=model_config)\n"
   ]
  },
  {
   "cell_type": "code",
   "execution_count": 33,
   "id": "b5b011c0",
   "metadata": {},
   "outputs": [
    {
     "name": "stdout",
     "output_type": "stream",
     "text": [
      "Evaluating: Describe the resource intensity of data center facility infrastructure\n",
      "Groundedness Score: {'groundedness': 5.0, 'gpt_groundedness': 5.0, 'groundedness_reason': 'The RESPONSE thoroughly and accurately describes the resource intensity of data center facility infrastructure, including all relevant details from the CONTEXT and QUERY.', 'groundedness_result': 'pass', 'groundedness_threshold': 3}\n",
      "Coherence Score: {'coherence': 4.0, 'gpt_coherence': 4.0, 'coherence_reason': 'The RESPONSE is coherent, well-structured, and effectively addresses the QUERY with clear explanations and logical organization of ideas.', 'coherence_result': 'pass', 'coherence_threshold': 3}\n",
      "---------------------------------------------------\n",
      "Evaluating: What is the weather in SF?\n",
      "Groundedness Score: {'groundedness': 5.0, 'gpt_groundedness': 5.0, 'groundedness_reason': 'The RESPONSE is fully correct and complete, providing all relevant details about the weather in San Francisco as requested in the QUERY.', 'groundedness_result': 'pass', 'groundedness_threshold': 3}\n",
      "Coherence Score: {'coherence': 4.0, 'gpt_coherence': 4.0, 'coherence_reason': 'The response is coherent, directly addresses the query, and presents the information in a clear and logical manner.', 'coherence_result': 'pass', 'coherence_threshold': 3}\n",
      "---------------------------------------------------\n"
     ]
    }
   ],
   "source": [
    "inputs = [\n",
    "    {\n",
    "        \"query\": \"Describe the resource intensity of data center facility infrastructure\",\n",
    "        \"context\": \"Data centers consume large amounts of electricity for power and cooling systems.\",\n",
    "        \"expected_output\": \"Description of resource intensity with two key metrics: Power Usage Effectiveness (PUE) and Water Usage Effectiveness (WUE)\"\n",
    "    },\n",
    "    {\n",
    "        \"query\": \"What is the weather in SF?\",\n",
    "        \"context\": \"The user is asking for weather details for San Francisco.\",\n",
    "        \"expected_output\": \"Includes weather for San Francisco with temperature.\"\n",
    "    }\n",
    "]\n",
    "\n",
    "\n",
    "def evaluate(query, response_content, context, expected_output):\n",
    "\n",
    "    groundedness_score = groundedness_eval(\n",
    "        query=query,\n",
    "        context=context,\n",
    "        response=response_content\n",
    "    )\n",
    "\n",
    "    coherence_score = coherence_eval(query=query,\n",
    "        context=context,\n",
    "        response=response_content\n",
    "        )\n",
    "\n",
    "    print(f\"Evaluating: {query}\")\n",
    "    print(f\"Groundedness Score: {groundedness_score}\")\n",
    "    print(f\"Coherence Score: {coherence_score}\")\n",
    "    print(\"---------------------------------------------------\")\n",
    "\n",
    "\n",
    "\n",
    "\n",
    "for query_input in inputs:\n",
    "    query = query_input[\"query\"]\n",
    "    context = query_input[\"context\"]\n",
    "    expected_output = query_input[\"expected_output\"]\n",
    "\n",
    "\n",
    "    final_response = extract_graph_response(query,graph)\n",
    "\n",
    "    # Evaluate the final response\n",
    "    evaluate(query, final_response, context, expected_output)\n"
   ]
  }
 ],
 "metadata": {
  "kernelspec": {
   "display_name": ".venv",
   "language": "python",
   "name": "python3"
  },
  "language_info": {
   "codemirror_mode": {
    "name": "ipython",
    "version": 3
   },
   "file_extension": ".py",
   "mimetype": "text/x-python",
   "name": "python",
   "nbconvert_exporter": "python",
   "pygments_lexer": "ipython3",
   "version": "3.12.10"
  }
 },
 "nbformat": 4,
 "nbformat_minor": 5
}
