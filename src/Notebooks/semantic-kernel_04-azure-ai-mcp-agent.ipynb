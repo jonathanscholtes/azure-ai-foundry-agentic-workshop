{
 "cells": [
  {
   "cell_type": "code",
   "execution_count": 3,
   "id": "92a4c472",
   "metadata": {},
   "outputs": [],
   "source": [
    "! pip install -r requirements.txt --quiet"
   ]
  },
  {
   "cell_type": "markdown",
   "id": "99d9c0f3",
   "metadata": {},
   "source": [
    "# Connecting to a Remote MCP Server with Semantic Kernel\n",
    "\n",
    "This notebook demonstrates how to connect to a remote MCP Server using **Semantic Kernel's** `MCPSsePlugin`. The **Model Context Protocol (MCP)** enables scalable and modular tool integration across distributed systems. \n",
    "\n",
    "<br/>\n",
    "\n",
    "> **Why Use Model Context Protocol (MCP)?**\n",
    ">\n",
    ">MCP allows agents to discover, invoke, and manage tools dynamically across remote servers.  \n",
    ">It promotes modularity, scalability, and separation of concerns, making it easier to maintain and extend AI systems as they grow in complexity."
   ]
  },
  {
   "cell_type": "code",
   "execution_count": 22,
   "id": "6c3f6ae9",
   "metadata": {},
   "outputs": [],
   "source": [
    "from semantic_kernel import Kernel\n",
    "from user_plugins import WeatherPlugin, DataCenterPlugin\n",
    "from semantic_kernel.agents import ChatCompletionAgent\n",
    "from semantic_kernel.connectors.ai.open_ai import AzureChatCompletion\n",
    "from dotenv import load_dotenv\n",
    "from os import environ\n",
    "import asyncio\n",
    "\n",
    "from semantic_kernel.connectors.mcp import MCPSsePlugin\n",
    "\n",
    "load_dotenv(override=True)\n",
    "\n",
    "kernel = Kernel()\n",
    "\n",
    "kernel.add_service(AzureChatCompletion(\n",
    "    service_id=\"chat\",\n",
    "    deployment_name=environ[\"AZURE_OPENAI_MODEL\"],\n",
    "    endpoint=environ[\"AZURE_OPENAI_ENDPOINT\"],\n",
    "    api_key=environ[\"AZURE_OPENAI_API_KEY\"] ))\n",
    "\n"
   ]
  },
  {
   "cell_type": "markdown",
   "id": "feaf10c3",
   "metadata": {},
   "source": [
    "## Connecting to a remote MCP server via sse\n",
    "\n",
    "- Server-Sent Events (SSE) is a mechanism for establishing a continuous, one-way data stream from the server to a client, such as a web application. This allows the server to push updates or messages to the client without the client needing to constantly poll for new information"
   ]
  },
  {
   "cell_type": "code",
   "execution_count": 23,
   "id": "d34908b1",
   "metadata": {},
   "outputs": [
    {
     "name": "stdout",
     "output_type": "stream",
     "text": [
      "It's 60°F and foggy in San Francisco today.\n"
     ]
    }
   ],
   "source": [
    "async with MCPSsePlugin(\n",
    "    name=\"weather\",\n",
    "    url=f\"{environ[\"MCP_SERVER_URL\"]}/weather/sse\",\n",
    ") as weather_plugin:\n",
    "\n",
    "    agent = ChatCompletionAgent(\n",
    "        kernel=kernel, \n",
    "        name=\"WeatherAgent\", \n",
    "        plugins=[weather_plugin, ]\n",
    "    )\n",
    "    response = await agent.get_response(messages=\"What's the weather like in sf today?\")\n",
    "    print(response)"
   ]
  },
  {
   "cell_type": "code",
   "execution_count": null,
   "id": "1ef9900d",
   "metadata": {},
   "outputs": [
    {
     "name": "stdout",
     "output_type": "stream",
     "text": [
      "------------------------------------------------\n",
      "\n",
      "What data centers are in 'critical'?\n",
      "The following data centers are currently marked as \"critical\":\n",
      "\n",
      "1. **DC-NYC1**, Zone: B2\n",
      "   - Timestamp: 2025-04-14T15:00:13\n",
      "   - Power Draw: 190.82 kW\n",
      "   - PUE (Power Usage Effectiveness): 1.29\n",
      "   - Temperature: 29.66°C\n",
      "   - Notes: No operator notes provided.\n",
      "\n",
      "2. **DC-CHI2**, Zone: A1\n",
      "   - Timestamp: 2025-04-14T14:00:13\n",
      "   - Power Draw: 162.3 kW\n",
      "   - PUE: 2.05\n",
      "   - Temperature: 24.69°C\n",
      "   - Notes: \"Temp spike investigated.\"\n",
      "\n",
      "3. **DC-NYC1**, Zone: B2\n",
      "   - Timestamp: 2025-04-14T13:45:13\n",
      "   - Power Draw: 163.71 kW\n",
      "   - PUE: 1.72\n",
      "   - Temperature: 25.68°C\n",
      "   - Notes: \"Checked UPS levels.\"\n",
      "\n",
      "4. **DC-CHI2**, Zone: C3\n",
      "   - Timestamp: 2025-04-14T13:15:13\n",
      "   - Power Draw: 224.52 kW\n",
      "   - PUE: 1.58\n",
      "   - Temperature: 25.54°C\n",
      "   - Notes: \"Rebooted cooling system.\"\n",
      "\n",
      "5. **DC-OMA1**, Zone: A1\n",
      "   - Timestamp: 2025-04-14T12:30:13\n",
      "   - Power Draw: 122.23 kW\n",
      "   - PUE: 1.78\n",
      "   - Temperature: 29.32°C\n",
      "   - Notes: \"Temp spike investigated.\"\n",
      "\n",
      "There are additional entries and details in the list for other data centers flagged as \"critical.\" If you'd like further specifics or a list of all critical data centers for a particular timestamp or parameter, let me know!\n",
      "\\n------------------------------------------------\n",
      "\n",
      "------------------------------------------------\n",
      "\n",
      "Describe the resource intensity of data center facility infrastructure\n",
      "The resource intensity of data center facility infrastructure is characterized primarily by two key metrics:\n",
      "\n",
      "1. **Power Usage Effectiveness (PUE)**:\n",
      "   - Defined as the total electricity demand of the data center divided by the electricity demand of the IT equipment.\n",
      "   - PUE is a dimensionless metric (kWh/kWh) and is influenced by factors such as cooling systems, operational practices, and climatic conditions.\n",
      "\n",
      "2. **Water Usage Effectiveness (WUE)**:\n",
      "   - Defined as the total water consumption of the data center divided by the electricity demand of the IT equipment.\n",
      "   - WUE is typically reported in terms of liters per kWh and accounts for on-site water usage (direct water consumption primarily tied to cooling infrastructure) or water consumption via electricity generation (source water consumption).\n",
      "\n",
      "Other notes:\n",
      "- Operational characteristics, cooling systems, and infrastructure equipment are simulated using thermodynamic models to predict overall PUE and WUE averages.\n",
      "- Cooling infrastructure is a significant component, which often results in direct water consumption (\"WUE (site)\"). Indirect water use, due to electricity, adds another layer known as \"WUE (source).\"\n",
      "- In the U.S., indirect water usage associated with data centers averages around 4.52 liters/kWh, based on grid electricity metrics.\n",
      "\n",
      "These metrics are critical to assessing environmental impacts and play important roles in improving efficiency, minimizing energy usage, and optimizing cooling technologies within data centers.\n",
      "\\n------------------------------------------------\n",
      "\n"
     ]
    }
   ],
   "source": [
    "from contextlib import AsyncExitStack\n",
    "\n",
    "plugin_names = [\"weather\", \"search\", \"energy\"]\n",
    "\n",
    "messages = [\n",
    "    \"What data centers are in 'critical'?\",\n",
    "    \"Describe the resource intensity of data center facility infrastructure\"\n",
    "]\n",
    "\n",
    "\n",
    "async with AsyncExitStack() as stack:\n",
    "    plugins = []\n",
    "    for plugin_name in plugin_names:\n",
    "        plugin = await stack.enter_async_context(\n",
    "            MCPSsePlugin(\n",
    "                name=plugin_name,\n",
    "                url=f\"{environ['MCP_SERVER_URL']}/{plugin_name}/sse\"\n",
    "            )\n",
    "        )\n",
    "        plugins.append(plugin)\n",
    "\n",
    "    agent = ChatCompletionAgent(\n",
    "        kernel=kernel,\n",
    "        name=\"MultiPluginAgent\",\n",
    "        plugins=plugins\n",
    "    )\n",
    "\n",
    "\n",
    "    for msg in messages:\n",
    "        print(\"------------------------------------------------\\n\")\n",
    "        print(msg)\n",
    "        response = await agent.get_response(messages=msg)\n",
    "        print(response)\n",
    "        print(\"\\n------------------------------------------------\\n\")\n"
   ]
  }
 ],
 "metadata": {
  "kernelspec": {
   "display_name": ".venv",
   "language": "python",
   "name": "python3"
  },
  "language_info": {
   "codemirror_mode": {
    "name": "ipython",
    "version": 3
   },
   "file_extension": ".py",
   "mimetype": "text/x-python",
   "name": "python",
   "nbconvert_exporter": "python",
   "pygments_lexer": "ipython3",
   "version": "3.12.10"
  }
 },
 "nbformat": 4,
 "nbformat_minor": 5
}
