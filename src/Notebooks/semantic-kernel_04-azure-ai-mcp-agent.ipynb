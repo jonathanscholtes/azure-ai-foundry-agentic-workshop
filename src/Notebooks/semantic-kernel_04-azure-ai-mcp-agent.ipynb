{
 "cells": [
  {
   "cell_type": "code",
   "execution_count": 3,
   "id": "92a4c472",
   "metadata": {},
   "outputs": [],
   "source": [
    "! pip install -r requirements.txt --quiet"
   ]
  },
  {
   "cell_type": "code",
   "execution_count": 8,
   "id": "6c3f6ae9",
   "metadata": {},
   "outputs": [],
   "source": [
    "from semantic_kernel import Kernel\n",
    "from user_plugins import WeatherPlugin, DataCenterPlugin\n",
    "from semantic_kernel.agents import ChatCompletionAgent\n",
    "from semantic_kernel.connectors.ai.open_ai import AzureChatCompletion\n",
    "from dotenv import load_dotenv\n",
    "from os import environ\n",
    "\n",
    "from semantic_kernel.connectors.mcp import MCPSsePlugin\n",
    "\n",
    "load_dotenv(override=True)\n",
    "\n",
    "kernel = Kernel()\n",
    "\n",
    "kernel.add_service(AzureChatCompletion(\n",
    "    service_id=\"chat\",\n",
    "    deployment_name=environ[\"AZURE_OPENAI_MODEL\"],\n",
    "    endpoint=environ[\"AZURE_OPENAI_ENDPOINT\"],\n",
    "    api_key=environ[\"AZURE_OPENAI_API_KEY\"] ))\n",
    "\n"
   ]
  },
  {
   "cell_type": "markdown",
   "id": "feaf10c3",
   "metadata": {},
   "source": [
    "## Connecting to a remote MCP server via sse\n",
    "\n",
    "- Server-Sent Events (SSE) is a mechanism for establishing a continuous, one-way data stream from the server to a client, such as a web application. This allows the server to push updates or messages to the client without the client needing to constantly poll for new information"
   ]
  },
  {
   "cell_type": "code",
   "execution_count": null,
   "id": "d34908b1",
   "metadata": {},
   "outputs": [
    {
     "name": "stderr",
     "output_type": "stream",
     "text": [
      "Error in post_writer: Client error '404 Not Found' for url 'https://ca-mcp-foundry-lab-5nvg5z3f5hl4.proudpond-ab8f15d9.eastus2.azurecontainerapps.io/messages/?session_id=f58848734b324de6a2310c832df1ed33'\n",
      "For more information check: https://developer.mozilla.org/en-US/docs/Web/HTTP/Status/404\n"
     ]
    },
    {
     "ename": "CancelledError",
     "evalue": "",
     "output_type": "error",
     "traceback": [
      "\u001b[31m---------------------------------------------------------------------------\u001b[39m",
      "\u001b[31mWouldBlock\u001b[39m                                Traceback (most recent call last)",
      "\u001b[36mFile \u001b[39m\u001b[32mc:\\Users\\joscholt\\Documents\\GitHub\\Azure-AI-Foundry-Agentic-Workshop\\.venv\\Lib\\site-packages\\anyio\\streams\\memory.py:111\u001b[39m, in \u001b[36mMemoryObjectReceiveStream.receive\u001b[39m\u001b[34m(self)\u001b[39m\n\u001b[32m    110\u001b[39m \u001b[38;5;28;01mtry\u001b[39;00m:\n\u001b[32m--> \u001b[39m\u001b[32m111\u001b[39m     \u001b[38;5;28;01mreturn\u001b[39;00m \u001b[38;5;28;43mself\u001b[39;49m\u001b[43m.\u001b[49m\u001b[43mreceive_nowait\u001b[49m\u001b[43m(\u001b[49m\u001b[43m)\u001b[49m\n\u001b[32m    112\u001b[39m \u001b[38;5;28;01mexcept\u001b[39;00m WouldBlock:\n\u001b[32m    113\u001b[39m     \u001b[38;5;66;03m# Add ourselves in the queue\u001b[39;00m\n",
      "\u001b[36mFile \u001b[39m\u001b[32mc:\\Users\\joscholt\\Documents\\GitHub\\Azure-AI-Foundry-Agentic-Workshop\\.venv\\Lib\\site-packages\\anyio\\streams\\memory.py:106\u001b[39m, in \u001b[36mMemoryObjectReceiveStream.receive_nowait\u001b[39m\u001b[34m(self)\u001b[39m\n\u001b[32m    104\u001b[39m     \u001b[38;5;28;01mraise\u001b[39;00m EndOfStream\n\u001b[32m--> \u001b[39m\u001b[32m106\u001b[39m \u001b[38;5;28;01mraise\u001b[39;00m WouldBlock\n",
      "\u001b[31mWouldBlock\u001b[39m: ",
      "\nDuring handling of the above exception, another exception occurred:\n",
      "\u001b[31mCancelledError\u001b[39m                            Traceback (most recent call last)",
      "\u001b[36mCell\u001b[39m\u001b[36m \u001b[39m\u001b[32mIn[9]\u001b[39m\u001b[32m, line 1\u001b[39m\n\u001b[32m----> \u001b[39m\u001b[32m1\u001b[39m \u001b[38;5;28;01masync\u001b[39;00m \u001b[38;5;28;01mwith\u001b[39;00m MCPSsePlugin(\n\u001b[32m      2\u001b[39m     name=\u001b[33m\"\u001b[39m\u001b[33mweather\u001b[39m\u001b[33m\"\u001b[39m,\n\u001b[32m      3\u001b[39m     url=\u001b[33mf\u001b[39m\u001b[33m\"\u001b[39m\u001b[38;5;132;01m{\u001b[39;00menviron[\u001b[33m\"\u001b[39m\u001b[33mMCP_SERVER_URL\u001b[39m\u001b[33m\"\u001b[39m]\u001b[38;5;132;01m}\u001b[39;00m\u001b[33m/weather/sse\u001b[39m\u001b[33m\"\u001b[39m,\n\u001b[32m      4\u001b[39m ) \u001b[38;5;28;01mas\u001b[39;00m weather_plugin:\n\u001b[32m      6\u001b[39m     agent = ChatCompletionAgent(\n\u001b[32m      7\u001b[39m         kernel=kernel, \n\u001b[32m      8\u001b[39m         name=\u001b[33m\"\u001b[39m\u001b[33mWeatherAgent\u001b[39m\u001b[33m\"\u001b[39m, \n\u001b[32m      9\u001b[39m         plugins=[weather_plugin, ]\n\u001b[32m     10\u001b[39m     )\n\u001b[32m     11\u001b[39m     response = \u001b[38;5;28;01mawait\u001b[39;00m agent.get_response(messages=\u001b[33m\"\u001b[39m\u001b[33mWhat\u001b[39m\u001b[33m'\u001b[39m\u001b[33ms the weather like in sf today?\u001b[39m\u001b[33m\"\u001b[39m)\n",
      "\u001b[36mFile \u001b[39m\u001b[32mc:\\Users\\joscholt\\Documents\\GitHub\\Azure-AI-Foundry-Agentic-Workshop\\.venv\\Lib\\site-packages\\semantic_kernel\\connectors\\mcp.py:420\u001b[39m, in \u001b[36mMCPPluginBase.__aenter__\u001b[39m\u001b[34m(self)\u001b[39m\n\u001b[32m    418\u001b[39m \u001b[38;5;250m\u001b[39m\u001b[33;03m\"\"\"Enter the context manager.\"\"\"\u001b[39;00m\n\u001b[32m    419\u001b[39m \u001b[38;5;28;01mtry\u001b[39;00m:\n\u001b[32m--> \u001b[39m\u001b[32m420\u001b[39m     \u001b[38;5;28;01mawait\u001b[39;00m \u001b[38;5;28mself\u001b[39m.connect()\n\u001b[32m    421\u001b[39m     \u001b[38;5;28;01mreturn\u001b[39;00m \u001b[38;5;28mself\u001b[39m\n\u001b[32m    422\u001b[39m \u001b[38;5;28;01mexcept\u001b[39;00m KernelPluginInvalidConfigurationError:\n",
      "\u001b[36mFile \u001b[39m\u001b[32mc:\\Users\\joscholt\\Documents\\GitHub\\Azure-AI-Foundry-Agentic-Workshop\\.venv\\Lib\\site-packages\\semantic_kernel\\connectors\\mcp.py:224\u001b[39m, in \u001b[36mMCPPluginBase.connect\u001b[39m\u001b[34m(self)\u001b[39m\n\u001b[32m    220\u001b[39m         \u001b[38;5;28;01mawait\u001b[39;00m \u001b[38;5;28mself\u001b[39m._exit_stack.aclose()\n\u001b[32m    221\u001b[39m         \u001b[38;5;28;01mraise\u001b[39;00m KernelPluginInvalidConfigurationError(\n\u001b[32m    222\u001b[39m             \u001b[33m\"\u001b[39m\u001b[33mFailed to create a session. Please check your configuration.\u001b[39m\u001b[33m\"\u001b[39m\n\u001b[32m    223\u001b[39m         ) \u001b[38;5;28;01mfrom\u001b[39;00m\u001b[38;5;250m \u001b[39m\u001b[34;01mex\u001b[39;00m\n\u001b[32m--> \u001b[39m\u001b[32m224\u001b[39m     \u001b[38;5;28;01mawait\u001b[39;00m session.initialize()\n\u001b[32m    225\u001b[39m     \u001b[38;5;28mself\u001b[39m.session = session\n\u001b[32m    226\u001b[39m \u001b[38;5;28;01melif\u001b[39;00m \u001b[38;5;28mself\u001b[39m.session._request_id == \u001b[32m0\u001b[39m:\n\u001b[32m    227\u001b[39m     \u001b[38;5;66;03m# If the session is not initialized, we need to reinitialize it\u001b[39;00m\n",
      "\u001b[36mFile \u001b[39m\u001b[32mc:\\Users\\joscholt\\Documents\\GitHub\\Azure-AI-Foundry-Agentic-Workshop\\.venv\\Lib\\site-packages\\mcp\\client\\session.py:122\u001b[39m, in \u001b[36mClientSession.initialize\u001b[39m\u001b[34m(self)\u001b[39m\n\u001b[32m    114\u001b[39m sampling = types.SamplingCapability()\n\u001b[32m    115\u001b[39m roots = types.RootsCapability(\n\u001b[32m    116\u001b[39m     \u001b[38;5;66;03m# TODO: Should this be based on whether we\u001b[39;00m\n\u001b[32m    117\u001b[39m     \u001b[38;5;66;03m# _will_ send notifications, or only whether\u001b[39;00m\n\u001b[32m    118\u001b[39m     \u001b[38;5;66;03m# they're supported?\u001b[39;00m\n\u001b[32m    119\u001b[39m     listChanged=\u001b[38;5;28;01mTrue\u001b[39;00m,\n\u001b[32m    120\u001b[39m )\n\u001b[32m--> \u001b[39m\u001b[32m122\u001b[39m result = \u001b[38;5;28;01mawait\u001b[39;00m \u001b[38;5;28mself\u001b[39m.send_request(\n\u001b[32m    123\u001b[39m     types.ClientRequest(\n\u001b[32m    124\u001b[39m         types.InitializeRequest(\n\u001b[32m    125\u001b[39m             method=\u001b[33m\"\u001b[39m\u001b[33minitialize\u001b[39m\u001b[33m\"\u001b[39m,\n\u001b[32m    126\u001b[39m             params=types.InitializeRequestParams(\n\u001b[32m    127\u001b[39m                 protocolVersion=types.LATEST_PROTOCOL_VERSION,\n\u001b[32m    128\u001b[39m                 capabilities=types.ClientCapabilities(\n\u001b[32m    129\u001b[39m                     sampling=sampling,\n\u001b[32m    130\u001b[39m                     experimental=\u001b[38;5;28;01mNone\u001b[39;00m,\n\u001b[32m    131\u001b[39m                     roots=roots,\n\u001b[32m    132\u001b[39m                 ),\n\u001b[32m    133\u001b[39m                 clientInfo=types.Implementation(name=\u001b[33m\"\u001b[39m\u001b[33mmcp\u001b[39m\u001b[33m\"\u001b[39m, version=\u001b[33m\"\u001b[39m\u001b[33m0.1.0\u001b[39m\u001b[33m\"\u001b[39m),\n\u001b[32m    134\u001b[39m             ),\n\u001b[32m    135\u001b[39m         )\n\u001b[32m    136\u001b[39m     ),\n\u001b[32m    137\u001b[39m     types.InitializeResult,\n\u001b[32m    138\u001b[39m )\n\u001b[32m    140\u001b[39m \u001b[38;5;28;01mif\u001b[39;00m result.protocolVersion \u001b[38;5;129;01mnot\u001b[39;00m \u001b[38;5;129;01min\u001b[39;00m SUPPORTED_PROTOCOL_VERSIONS:\n\u001b[32m    141\u001b[39m     \u001b[38;5;28;01mraise\u001b[39;00m \u001b[38;5;167;01mRuntimeError\u001b[39;00m(\n\u001b[32m    142\u001b[39m         \u001b[33m\"\u001b[39m\u001b[33mUnsupported protocol version from the server: \u001b[39m\u001b[33m\"\u001b[39m\n\u001b[32m    143\u001b[39m         \u001b[33mf\u001b[39m\u001b[33m\"\u001b[39m\u001b[38;5;132;01m{\u001b[39;00mresult.protocolVersion\u001b[38;5;132;01m}\u001b[39;00m\u001b[33m\"\u001b[39m\n\u001b[32m    144\u001b[39m     )\n",
      "\u001b[36mFile \u001b[39m\u001b[32mc:\\Users\\joscholt\\Documents\\GitHub\\Azure-AI-Foundry-Agentic-Workshop\\.venv\\Lib\\site-packages\\mcp\\shared\\session.py:252\u001b[39m, in \u001b[36mBaseSession.send_request\u001b[39m\u001b[34m(self, request, result_type)\u001b[39m\n\u001b[32m    246\u001b[39m \u001b[38;5;28;01mtry\u001b[39;00m:\n\u001b[32m    247\u001b[39m     \u001b[38;5;28;01mwith\u001b[39;00m anyio.fail_after(\n\u001b[32m    248\u001b[39m         \u001b[38;5;28;01mNone\u001b[39;00m\n\u001b[32m    249\u001b[39m         \u001b[38;5;28;01mif\u001b[39;00m \u001b[38;5;28mself\u001b[39m._read_timeout_seconds \u001b[38;5;129;01mis\u001b[39;00m \u001b[38;5;28;01mNone\u001b[39;00m\n\u001b[32m    250\u001b[39m         \u001b[38;5;28;01melse\u001b[39;00m \u001b[38;5;28mself\u001b[39m._read_timeout_seconds.total_seconds()\n\u001b[32m    251\u001b[39m     ):\n\u001b[32m--> \u001b[39m\u001b[32m252\u001b[39m         response_or_error = \u001b[38;5;28;01mawait\u001b[39;00m response_stream_reader.receive()\n\u001b[32m    253\u001b[39m \u001b[38;5;28;01mexcept\u001b[39;00m \u001b[38;5;167;01mTimeoutError\u001b[39;00m:\n\u001b[32m    254\u001b[39m     \u001b[38;5;28;01mraise\u001b[39;00m McpError(\n\u001b[32m    255\u001b[39m         ErrorData(\n\u001b[32m    256\u001b[39m             code=httpx.codes.REQUEST_TIMEOUT,\n\u001b[32m   (...)\u001b[39m\u001b[32m    262\u001b[39m         )\n\u001b[32m    263\u001b[39m     )\n",
      "\u001b[36mFile \u001b[39m\u001b[32mc:\\Users\\joscholt\\Documents\\GitHub\\Azure-AI-Foundry-Agentic-Workshop\\.venv\\Lib\\site-packages\\anyio\\streams\\memory.py:119\u001b[39m, in \u001b[36mMemoryObjectReceiveStream.receive\u001b[39m\u001b[34m(self)\u001b[39m\n\u001b[32m    116\u001b[39m \u001b[38;5;28mself\u001b[39m._state.waiting_receivers[receive_event] = receiver\n\u001b[32m    118\u001b[39m \u001b[38;5;28;01mtry\u001b[39;00m:\n\u001b[32m--> \u001b[39m\u001b[32m119\u001b[39m     \u001b[38;5;28;01mawait\u001b[39;00m receive_event.wait()\n\u001b[32m    120\u001b[39m \u001b[38;5;28;01mfinally\u001b[39;00m:\n\u001b[32m    121\u001b[39m     \u001b[38;5;28mself\u001b[39m._state.waiting_receivers.pop(receive_event, \u001b[38;5;28;01mNone\u001b[39;00m)\n",
      "\u001b[36mFile \u001b[39m\u001b[32mc:\\Users\\joscholt\\Documents\\GitHub\\Azure-AI-Foundry-Agentic-Workshop\\.venv\\Lib\\site-packages\\anyio\\_backends\\_asyncio.py:1774\u001b[39m, in \u001b[36mEvent.wait\u001b[39m\u001b[34m(self)\u001b[39m\n\u001b[32m   1772\u001b[39m     \u001b[38;5;28;01mawait\u001b[39;00m AsyncIOBackend.checkpoint()\n\u001b[32m   1773\u001b[39m \u001b[38;5;28;01melse\u001b[39;00m:\n\u001b[32m-> \u001b[39m\u001b[32m1774\u001b[39m     \u001b[38;5;28;01mawait\u001b[39;00m \u001b[38;5;28mself\u001b[39m._event.wait()\n",
      "\u001b[36mFile \u001b[39m\u001b[32m~\\AppData\\Local\\Programs\\Python\\Python312\\Lib\\asyncio\\locks.py:212\u001b[39m, in \u001b[36mEvent.wait\u001b[39m\u001b[34m(self)\u001b[39m\n\u001b[32m    210\u001b[39m \u001b[38;5;28mself\u001b[39m._waiters.append(fut)\n\u001b[32m    211\u001b[39m \u001b[38;5;28;01mtry\u001b[39;00m:\n\u001b[32m--> \u001b[39m\u001b[32m212\u001b[39m     \u001b[38;5;28;01mawait\u001b[39;00m fut\n\u001b[32m    213\u001b[39m     \u001b[38;5;28;01mreturn\u001b[39;00m \u001b[38;5;28;01mTrue\u001b[39;00m\n\u001b[32m    214\u001b[39m \u001b[38;5;28;01mfinally\u001b[39;00m:\n",
      "\u001b[31mCancelledError\u001b[39m: "
     ]
    },
    {
     "name": "stderr",
     "output_type": "stream",
     "text": [
      "Error in sse_reader: peer closed connection without sending complete message body (incomplete chunked read)\n",
      "Error from MCP server: peer closed connection without sending complete message body (incomplete chunked read)\n"
     ]
    }
   ],
   "source": [
    "async with MCPSsePlugin(\n",
    "    name=\"weather\",\n",
    "    url=f\"{environ[\"MCP_SERVER_URL\"]}/weather/sse\",\n",
    ") as weather_plugin:\n",
    "\n",
    "    agent = ChatCompletionAgent(\n",
    "        kernel=kernel, \n",
    "        name=\"WeatherAgent\", \n",
    "        plugins=[weather_plugin, ]\n",
    "    )\n",
    "    response = await agent.get_response(messages=\"What's the weather like in sf today?\")\n",
    "    print(response)"
   ]
  }
 ],
 "metadata": {
  "kernelspec": {
   "display_name": ".venv",
   "language": "python",
   "name": "python3"
  },
  "language_info": {
   "codemirror_mode": {
    "name": "ipython",
    "version": 3
   },
   "file_extension": ".py",
   "mimetype": "text/x-python",
   "name": "python",
   "nbconvert_exporter": "python",
   "pygments_lexer": "ipython3",
   "version": "3.12.10"
  }
 },
 "nbformat": 4,
 "nbformat_minor": 5
}
