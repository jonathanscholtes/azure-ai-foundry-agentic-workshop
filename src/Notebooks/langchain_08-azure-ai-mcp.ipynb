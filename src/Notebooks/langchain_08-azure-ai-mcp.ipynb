{
 "cells": [
  {
   "cell_type": "code",
   "execution_count": 3,
   "id": "43e8e82e",
   "metadata": {},
   "outputs": [],
   "source": [
    "! pip install -r requirements.txt --quiet"
   ]
  },
  {
   "cell_type": "code",
   "execution_count": 4,
   "id": "056233f1",
   "metadata": {},
   "outputs": [
    {
     "data": {
      "text/plain": [
       "True"
      ]
     },
     "execution_count": 4,
     "metadata": {},
     "output_type": "execute_result"
    }
   ],
   "source": [
    "from dotenv import load_dotenv\n",
    "from os import environ\n",
    "from langchain_openai import AzureChatOpenAI\n",
    "from typing import Annotated\n",
    "from typing_extensions import TypedDict\n",
    "from langgraph.graph import StateGraph, START, END\n",
    "from langgraph.graph.message import add_messages\n",
    "from IPython.display import Image, display\n",
    "from utils import pretty_print_messages\n",
    "from langchain_mcp_adapters.client import MultiServerMCPClient\n",
    "\n",
    "\n",
    "load_dotenv(override=True)"
   ]
  },
  {
   "cell_type": "code",
   "execution_count": null,
   "id": "a5e03007",
   "metadata": {},
   "outputs": [],
   "source": [
    "async with MultiServerMCPClient(\n",
    "{\n",
    "\"weather\": {\n",
    "\"url\": \"https://ca-foundry-lab-51biegbjlxd3.ashysky-c599812a.eastus2.azurecontainerapps.io/weather/sse\",\n",
    "\"transport\": \"sse\",\n",
    "}\n",
    "}\n",
    ") as client:\n",
    "agent = create_react_agent(model, client.get_tools())\n"
   ]
  },
  {
   "cell_type": "code",
   "execution_count": null,
   "id": "ec5cb884",
   "metadata": {},
   "outputs": [],
   "source": [
    "reponse = await agent.ainvoke({\"messages\": \"what is the weather in sf\"})\n",
    "pretty_print_messages(step)"
   ]
  }
 ],
 "metadata": {
  "kernelspec": {
   "display_name": ".venv",
   "language": "python",
   "name": "python3"
  },
  "language_info": {
   "codemirror_mode": {
    "name": "ipython",
    "version": 3
   },
   "file_extension": ".py",
   "mimetype": "text/x-python",
   "name": "python",
   "nbconvert_exporter": "python",
   "pygments_lexer": "ipython3",
   "version": "3.12.10"
  }
 },
 "nbformat": 4,
 "nbformat_minor": 5
}
