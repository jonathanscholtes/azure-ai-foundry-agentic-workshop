{
 "cells": [
  {
   "cell_type": "code",
   "execution_count": 3,
   "id": "43e8e82e",
   "metadata": {},
   "outputs": [],
   "source": [
    "! pip install -r requirements.txt --quiet"
   ]
  },
  {
   "cell_type": "code",
   "execution_count": 16,
   "id": "056233f1",
   "metadata": {},
   "outputs": [
    {
     "data": {
      "text/plain": [
       "True"
      ]
     },
     "execution_count": 16,
     "metadata": {},
     "output_type": "execute_result"
    }
   ],
   "source": [
    "from dotenv import load_dotenv\n",
    "from os import environ\n",
    "from langchain_openai import AzureChatOpenAI\n",
    "from utils import pretty_print_response\n",
    "from langchain_mcp_adapters.client import MultiServerMCPClient\n",
    "from langgraph.prebuilt import create_react_agent\n",
    "\n",
    "\n",
    "load_dotenv(override=True)"
   ]
  },
  {
   "cell_type": "code",
   "execution_count": 17,
   "id": "16e4d673",
   "metadata": {},
   "outputs": [],
   "source": [
    "llm = AzureChatOpenAI(\n",
    "        temperature=0,\n",
    "        azure_deployment=environ[\"AZURE_OPENAI_MODEL\"],\n",
    "        api_version=environ[\"AZURE_OPENAI_API_VERSION\"]\n",
    "    )"
   ]
  },
  {
   "cell_type": "markdown",
   "id": "e592af5a",
   "metadata": {},
   "source": [
    "## Connecting to a remote MCP server via sse\n",
    "\n",
    "- Server-Sent Events (SSE) is a mechanism for establishing a continuous, one-way data stream from the server to a client, such as a web application. This allows the server to push updates or messages to the client without the client needing to constantly poll for new information"
   ]
  },
  {
   "cell_type": "code",
   "execution_count": 18,
   "id": "a5e03007",
   "metadata": {},
   "outputs": [
    {
     "name": "stdout",
     "output_type": "stream",
     "text": [
      "Human: what is the weather in sf\n",
      "\n",
      "\n",
      "AI: (Tool Call Triggered)\n",
      "   Calling `get_weather_tool` with args: {\"location\":\"San Francisco\"}\n",
      "\n",
      "\n",
      "Tool `get_weather_tool` Response: It's 60 degrees and foggy.\n",
      "\n",
      "\n",
      "AI: The weather in San Francisco is currently 60°F and foggy. Would you like me to convert the temperature to Celsius?\n",
      "\n",
      "\n"
     ]
    }
   ],
   "source": [
    "async with MultiServerMCPClient(\n",
    "{\n",
    "    \"weather\": {\n",
    "        \"url\": f\"{environ[\"MCP_WEATHER_SERVER_URL\"]}/sse\",\n",
    "        \"transport\": \"sse\",\n",
    "    }\n",
    "}) as client:\n",
    "    agent = create_react_agent(llm, client.get_tools())\n",
    "    reponse = await agent.ainvoke({\"messages\": \"what is the weather in sf\"})\n",
    "    pretty_print_response(reponse)\n"
   ]
  }
 ],
 "metadata": {
  "kernelspec": {
   "display_name": ".venv",
   "language": "python",
   "name": "python3"
  },
  "language_info": {
   "codemirror_mode": {
    "name": "ipython",
    "version": 3
   },
   "file_extension": ".py",
   "mimetype": "text/x-python",
   "name": "python",
   "nbconvert_exporter": "python",
   "pygments_lexer": "ipython3",
   "version": "3.12.10"
  }
 },
 "nbformat": 4,
 "nbformat_minor": 5
}
