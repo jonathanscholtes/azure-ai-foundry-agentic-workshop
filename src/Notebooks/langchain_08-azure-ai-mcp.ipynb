{
 "cells": [
  {
   "cell_type": "code",
   "execution_count": 3,
   "id": "43e8e82e",
   "metadata": {},
   "outputs": [],
   "source": [
    "! pip install -r requirements.txt --quiet"
   ]
  },
  {
   "cell_type": "code",
   "execution_count": 1,
   "id": "056233f1",
   "metadata": {},
   "outputs": [
    {
     "data": {
      "text/plain": [
       "True"
      ]
     },
     "execution_count": 1,
     "metadata": {},
     "output_type": "execute_result"
    }
   ],
   "source": [
    "from dotenv import load_dotenv\n",
    "from os import environ\n",
    "from langchain_openai import AzureChatOpenAI\n",
    "from utils import pretty_print_response\n",
    "from langchain_mcp_adapters.client import MultiServerMCPClient\n",
    "from langgraph.prebuilt import create_react_agent\n",
    "\n",
    "\n",
    "load_dotenv(override=True)"
   ]
  },
  {
   "cell_type": "code",
   "execution_count": 2,
   "id": "16e4d673",
   "metadata": {},
   "outputs": [],
   "source": [
    "llm = AzureChatOpenAI(\n",
    "        temperature=0,\n",
    "        azure_deployment=environ[\"AZURE_OPENAI_MODEL\"],\n",
    "        api_version=environ[\"AZURE_OPENAI_API_VERSION\"]\n",
    "    )"
   ]
  },
  {
   "cell_type": "markdown",
   "id": "e592af5a",
   "metadata": {},
   "source": [
    "## Connecting to a remote MCP server via sse\n",
    "\n",
    "- Server-Sent Events (SSE) is a mechanism for establishing a continuous, one-way data stream from the server to a client, such as a web application. This allows the server to push updates or messages to the client without the client needing to constantly poll for new information"
   ]
  },
  {
   "cell_type": "code",
   "execution_count": null,
   "id": "a5e03007",
   "metadata": {},
   "outputs": [
    {
     "name": "stderr",
     "output_type": "stream",
     "text": [
      "Error in post_writer: Client error '404 Not Found' for url 'https://ca-mcp-foundry-lab-5nvg5z3f5hl4.proudpond-ab8f15d9.eastus2.azurecontainerapps.io/messages/?session_id=193abf672b834419a5e959b61d6ded7f'\n",
      "For more information check: https://developer.mozilla.org/en-US/docs/Web/HTTP/Status/404\n"
     ]
    },
    {
     "ename": "CancelledError",
     "evalue": "",
     "output_type": "error",
     "traceback": [
      "\u001b[31m---------------------------------------------------------------------------\u001b[39m",
      "\u001b[31mWouldBlock\u001b[39m                                Traceback (most recent call last)",
      "\u001b[36mFile \u001b[39m\u001b[32mc:\\Users\\joscholt\\Documents\\GitHub\\Azure-AI-Foundry-Agentic-Workshop\\.venv\\Lib\\site-packages\\anyio\\streams\\memory.py:111\u001b[39m, in \u001b[36mMemoryObjectReceiveStream.receive\u001b[39m\u001b[34m(self)\u001b[39m\n\u001b[32m    110\u001b[39m \u001b[38;5;28;01mtry\u001b[39;00m:\n\u001b[32m--> \u001b[39m\u001b[32m111\u001b[39m     \u001b[38;5;28;01mreturn\u001b[39;00m \u001b[38;5;28;43mself\u001b[39;49m\u001b[43m.\u001b[49m\u001b[43mreceive_nowait\u001b[49m\u001b[43m(\u001b[49m\u001b[43m)\u001b[49m\n\u001b[32m    112\u001b[39m \u001b[38;5;28;01mexcept\u001b[39;00m WouldBlock:\n\u001b[32m    113\u001b[39m     \u001b[38;5;66;03m# Add ourselves in the queue\u001b[39;00m\n",
      "\u001b[36mFile \u001b[39m\u001b[32mc:\\Users\\joscholt\\Documents\\GitHub\\Azure-AI-Foundry-Agentic-Workshop\\.venv\\Lib\\site-packages\\anyio\\streams\\memory.py:106\u001b[39m, in \u001b[36mMemoryObjectReceiveStream.receive_nowait\u001b[39m\u001b[34m(self)\u001b[39m\n\u001b[32m    104\u001b[39m     \u001b[38;5;28;01mraise\u001b[39;00m EndOfStream\n\u001b[32m--> \u001b[39m\u001b[32m106\u001b[39m \u001b[38;5;28;01mraise\u001b[39;00m WouldBlock\n",
      "\u001b[31mWouldBlock\u001b[39m: ",
      "\nDuring handling of the above exception, another exception occurred:\n",
      "\u001b[31mCancelledError\u001b[39m                            Traceback (most recent call last)",
      "\u001b[36mCell\u001b[39m\u001b[36m \u001b[39m\u001b[32mIn[3]\u001b[39m\u001b[32m, line 1\u001b[39m\n\u001b[32m----> \u001b[39m\u001b[32m1\u001b[39m \u001b[38;5;28;01masync\u001b[39;00m \u001b[38;5;28;01mwith\u001b[39;00m MultiServerMCPClient(\n\u001b[32m      2\u001b[39m {\n\u001b[32m      3\u001b[39m     \u001b[33m\"\u001b[39m\u001b[33mweather\u001b[39m\u001b[33m\"\u001b[39m: {\n\u001b[32m      4\u001b[39m         \u001b[33m\"\u001b[39m\u001b[33murl\u001b[39m\u001b[33m\"\u001b[39m: \u001b[33mf\u001b[39m\u001b[33m\"\u001b[39m\u001b[38;5;132;01m{\u001b[39;00menviron[\u001b[33m\"\u001b[39m\u001b[33mMCP_SERVER_URL\u001b[39m\u001b[33m\"\u001b[39m]\u001b[38;5;132;01m}\u001b[39;00m\u001b[33m/weather/sse\u001b[39m\u001b[33m\"\u001b[39m,\n\u001b[32m      5\u001b[39m         \u001b[33m\"\u001b[39m\u001b[33mtransport\u001b[39m\u001b[33m\"\u001b[39m: \u001b[33m\"\u001b[39m\u001b[33msse\u001b[39m\u001b[33m\"\u001b[39m,\n\u001b[32m      6\u001b[39m         \u001b[33m\"\u001b[39m\u001b[33mbase_url\u001b[39m\u001b[33m\"\u001b[39m: \u001b[33mf\u001b[39m\u001b[33m\"\u001b[39m\u001b[38;5;132;01m{\u001b[39;00menviron[\u001b[33m'\u001b[39m\u001b[33mMCP_SERVER_URL\u001b[39m\u001b[33m'\u001b[39m]\u001b[38;5;132;01m}\u001b[39;00m\u001b[33m/weather\u001b[39m\u001b[33m\"\u001b[39m \n\u001b[32m      7\u001b[39m     }\n\u001b[32m      8\u001b[39m }) \u001b[38;5;28;01mas\u001b[39;00m client:\n\u001b[32m      9\u001b[39m     agent = create_react_agent(llm, client.get_tools())\n\u001b[32m     10\u001b[39m     reponse = \u001b[38;5;28;01mawait\u001b[39;00m agent.ainvoke({\u001b[33m\"\u001b[39m\u001b[33mmessages\u001b[39m\u001b[33m\"\u001b[39m: \u001b[33m\"\u001b[39m\u001b[33mwhat is the weather in sf\u001b[39m\u001b[33m\"\u001b[39m})\n",
      "\u001b[36mFile \u001b[39m\u001b[32mc:\\Users\\joscholt\\Documents\\GitHub\\Azure-AI-Foundry-Agentic-Workshop\\.venv\\Lib\\site-packages\\langchain_mcp_adapters\\client.py:357\u001b[39m, in \u001b[36mMultiServerMCPClient.__aenter__\u001b[39m\u001b[34m(self)\u001b[39m\n\u001b[32m    355\u001b[39m     connections = \u001b[38;5;28mself\u001b[39m.connections \u001b[38;5;129;01mor\u001b[39;00m {}\n\u001b[32m    356\u001b[39m     \u001b[38;5;28;01mfor\u001b[39;00m server_name, connection \u001b[38;5;129;01min\u001b[39;00m connections.items():\n\u001b[32m--> \u001b[39m\u001b[32m357\u001b[39m         \u001b[38;5;28;01mawait\u001b[39;00m \u001b[38;5;28mself\u001b[39m.connect_to_server(server_name, **connection)\n\u001b[32m    359\u001b[39m     \u001b[38;5;28;01mreturn\u001b[39;00m \u001b[38;5;28mself\u001b[39m\n\u001b[32m    360\u001b[39m \u001b[38;5;28;01mexcept\u001b[39;00m \u001b[38;5;167;01mException\u001b[39;00m:\n",
      "\u001b[36mFile \u001b[39m\u001b[32mc:\\Users\\joscholt\\Documents\\GitHub\\Azure-AI-Foundry-Agentic-Workshop\\.venv\\Lib\\site-packages\\langchain_mcp_adapters\\client.py:170\u001b[39m, in \u001b[36mMultiServerMCPClient.connect_to_server\u001b[39m\u001b[34m(self, server_name, transport, **kwargs)\u001b[39m\n\u001b[32m    168\u001b[39m     \u001b[38;5;28;01mif\u001b[39;00m \u001b[33m\"\u001b[39m\u001b[33murl\u001b[39m\u001b[33m\"\u001b[39m \u001b[38;5;129;01mnot\u001b[39;00m \u001b[38;5;129;01min\u001b[39;00m kwargs:\n\u001b[32m    169\u001b[39m         \u001b[38;5;28;01mraise\u001b[39;00m \u001b[38;5;167;01mValueError\u001b[39;00m(\u001b[33m\"\u001b[39m\u001b[33m'\u001b[39m\u001b[33murl\u001b[39m\u001b[33m'\u001b[39m\u001b[33m parameter is required for SSE connection\u001b[39m\u001b[33m\"\u001b[39m)\n\u001b[32m--> \u001b[39m\u001b[32m170\u001b[39m     \u001b[38;5;28;01mawait\u001b[39;00m \u001b[38;5;28mself\u001b[39m.connect_to_server_via_sse(\n\u001b[32m    171\u001b[39m         server_name,\n\u001b[32m    172\u001b[39m         url=kwargs[\u001b[33m\"\u001b[39m\u001b[33murl\u001b[39m\u001b[33m\"\u001b[39m],\n\u001b[32m    173\u001b[39m         headers=kwargs.get(\u001b[33m\"\u001b[39m\u001b[33mheaders\u001b[39m\u001b[33m\"\u001b[39m),\n\u001b[32m    174\u001b[39m         timeout=kwargs.get(\u001b[33m\"\u001b[39m\u001b[33mtimeout\u001b[39m\u001b[33m\"\u001b[39m, DEFAULT_HTTP_TIMEOUT),\n\u001b[32m    175\u001b[39m         sse_read_timeout=kwargs.get(\u001b[33m\"\u001b[39m\u001b[33msse_read_timeout\u001b[39m\u001b[33m\"\u001b[39m, DEFAULT_SSE_READ_TIMEOUT),\n\u001b[32m    176\u001b[39m         session_kwargs=kwargs.get(\u001b[33m\"\u001b[39m\u001b[33msession_kwargs\u001b[39m\u001b[33m\"\u001b[39m),\n\u001b[32m    177\u001b[39m     )\n\u001b[32m    178\u001b[39m \u001b[38;5;28;01melif\u001b[39;00m transport == \u001b[33m\"\u001b[39m\u001b[33mstdio\u001b[39m\u001b[33m\"\u001b[39m:\n\u001b[32m    179\u001b[39m     \u001b[38;5;28;01mif\u001b[39;00m \u001b[33m\"\u001b[39m\u001b[33mcommand\u001b[39m\u001b[33m\"\u001b[39m \u001b[38;5;129;01mnot\u001b[39;00m \u001b[38;5;129;01min\u001b[39;00m kwargs:\n",
      "\u001b[36mFile \u001b[39m\u001b[32mc:\\Users\\joscholt\\Documents\\GitHub\\Azure-AI-Foundry-Agentic-Workshop\\.venv\\Lib\\site-packages\\langchain_mcp_adapters\\client.py:286\u001b[39m, in \u001b[36mMultiServerMCPClient.connect_to_server_via_sse\u001b[39m\u001b[34m(self, server_name, url, headers, timeout, sse_read_timeout, session_kwargs)\u001b[39m\n\u001b[32m    280\u001b[39m session_kwargs = session_kwargs \u001b[38;5;129;01mor\u001b[39;00m {}\n\u001b[32m    281\u001b[39m session = cast(\n\u001b[32m    282\u001b[39m     ClientSession,\n\u001b[32m    283\u001b[39m     \u001b[38;5;28;01mawait\u001b[39;00m \u001b[38;5;28mself\u001b[39m.exit_stack.enter_async_context(ClientSession(read, write, **session_kwargs)),\n\u001b[32m    284\u001b[39m )\n\u001b[32m--> \u001b[39m\u001b[32m286\u001b[39m \u001b[38;5;28;01mawait\u001b[39;00m \u001b[38;5;28mself\u001b[39m._initialize_session_and_load_tools(server_name, session)\n",
      "\u001b[36mFile \u001b[39m\u001b[32mc:\\Users\\joscholt\\Documents\\GitHub\\Azure-AI-Foundry-Agentic-Workshop\\.venv\\Lib\\site-packages\\langchain_mcp_adapters\\client.py:139\u001b[39m, in \u001b[36mMultiServerMCPClient._initialize_session_and_load_tools\u001b[39m\u001b[34m(self, server_name, session)\u001b[39m\n\u001b[32m    132\u001b[39m \u001b[38;5;250m\u001b[39m\u001b[33;03m\"\"\"Initialize a session and load tools from it.\u001b[39;00m\n\u001b[32m    133\u001b[39m \n\u001b[32m    134\u001b[39m \u001b[33;03mArgs:\u001b[39;00m\n\u001b[32m    135\u001b[39m \u001b[33;03m    server_name: Name to identify this server connection\u001b[39;00m\n\u001b[32m    136\u001b[39m \u001b[33;03m    session: The ClientSession to initialize\u001b[39;00m\n\u001b[32m    137\u001b[39m \u001b[33;03m\"\"\"\u001b[39;00m\n\u001b[32m    138\u001b[39m \u001b[38;5;66;03m# Initialize the session\u001b[39;00m\n\u001b[32m--> \u001b[39m\u001b[32m139\u001b[39m \u001b[38;5;28;01mawait\u001b[39;00m session.initialize()\n\u001b[32m    140\u001b[39m \u001b[38;5;28mself\u001b[39m.sessions[server_name] = session\n\u001b[32m    142\u001b[39m \u001b[38;5;66;03m# Load tools from this server\u001b[39;00m\n",
      "\u001b[36mFile \u001b[39m\u001b[32mc:\\Users\\joscholt\\Documents\\GitHub\\Azure-AI-Foundry-Agentic-Workshop\\.venv\\Lib\\site-packages\\mcp\\client\\session.py:122\u001b[39m, in \u001b[36mClientSession.initialize\u001b[39m\u001b[34m(self)\u001b[39m\n\u001b[32m    114\u001b[39m sampling = types.SamplingCapability()\n\u001b[32m    115\u001b[39m roots = types.RootsCapability(\n\u001b[32m    116\u001b[39m     \u001b[38;5;66;03m# TODO: Should this be based on whether we\u001b[39;00m\n\u001b[32m    117\u001b[39m     \u001b[38;5;66;03m# _will_ send notifications, or only whether\u001b[39;00m\n\u001b[32m    118\u001b[39m     \u001b[38;5;66;03m# they're supported?\u001b[39;00m\n\u001b[32m    119\u001b[39m     listChanged=\u001b[38;5;28;01mTrue\u001b[39;00m,\n\u001b[32m    120\u001b[39m )\n\u001b[32m--> \u001b[39m\u001b[32m122\u001b[39m result = \u001b[38;5;28;01mawait\u001b[39;00m \u001b[38;5;28mself\u001b[39m.send_request(\n\u001b[32m    123\u001b[39m     types.ClientRequest(\n\u001b[32m    124\u001b[39m         types.InitializeRequest(\n\u001b[32m    125\u001b[39m             method=\u001b[33m\"\u001b[39m\u001b[33minitialize\u001b[39m\u001b[33m\"\u001b[39m,\n\u001b[32m    126\u001b[39m             params=types.InitializeRequestParams(\n\u001b[32m    127\u001b[39m                 protocolVersion=types.LATEST_PROTOCOL_VERSION,\n\u001b[32m    128\u001b[39m                 capabilities=types.ClientCapabilities(\n\u001b[32m    129\u001b[39m                     sampling=sampling,\n\u001b[32m    130\u001b[39m                     experimental=\u001b[38;5;28;01mNone\u001b[39;00m,\n\u001b[32m    131\u001b[39m                     roots=roots,\n\u001b[32m    132\u001b[39m                 ),\n\u001b[32m    133\u001b[39m                 clientInfo=types.Implementation(name=\u001b[33m\"\u001b[39m\u001b[33mmcp\u001b[39m\u001b[33m\"\u001b[39m, version=\u001b[33m\"\u001b[39m\u001b[33m0.1.0\u001b[39m\u001b[33m\"\u001b[39m),\n\u001b[32m    134\u001b[39m             ),\n\u001b[32m    135\u001b[39m         )\n\u001b[32m    136\u001b[39m     ),\n\u001b[32m    137\u001b[39m     types.InitializeResult,\n\u001b[32m    138\u001b[39m )\n\u001b[32m    140\u001b[39m \u001b[38;5;28;01mif\u001b[39;00m result.protocolVersion \u001b[38;5;129;01mnot\u001b[39;00m \u001b[38;5;129;01min\u001b[39;00m SUPPORTED_PROTOCOL_VERSIONS:\n\u001b[32m    141\u001b[39m     \u001b[38;5;28;01mraise\u001b[39;00m \u001b[38;5;167;01mRuntimeError\u001b[39;00m(\n\u001b[32m    142\u001b[39m         \u001b[33m\"\u001b[39m\u001b[33mUnsupported protocol version from the server: \u001b[39m\u001b[33m\"\u001b[39m\n\u001b[32m    143\u001b[39m         \u001b[33mf\u001b[39m\u001b[33m\"\u001b[39m\u001b[38;5;132;01m{\u001b[39;00mresult.protocolVersion\u001b[38;5;132;01m}\u001b[39;00m\u001b[33m\"\u001b[39m\n\u001b[32m    144\u001b[39m     )\n",
      "\u001b[36mFile \u001b[39m\u001b[32mc:\\Users\\joscholt\\Documents\\GitHub\\Azure-AI-Foundry-Agentic-Workshop\\.venv\\Lib\\site-packages\\mcp\\shared\\session.py:252\u001b[39m, in \u001b[36mBaseSession.send_request\u001b[39m\u001b[34m(self, request, result_type)\u001b[39m\n\u001b[32m    246\u001b[39m \u001b[38;5;28;01mtry\u001b[39;00m:\n\u001b[32m    247\u001b[39m     \u001b[38;5;28;01mwith\u001b[39;00m anyio.fail_after(\n\u001b[32m    248\u001b[39m         \u001b[38;5;28;01mNone\u001b[39;00m\n\u001b[32m    249\u001b[39m         \u001b[38;5;28;01mif\u001b[39;00m \u001b[38;5;28mself\u001b[39m._read_timeout_seconds \u001b[38;5;129;01mis\u001b[39;00m \u001b[38;5;28;01mNone\u001b[39;00m\n\u001b[32m    250\u001b[39m         \u001b[38;5;28;01melse\u001b[39;00m \u001b[38;5;28mself\u001b[39m._read_timeout_seconds.total_seconds()\n\u001b[32m    251\u001b[39m     ):\n\u001b[32m--> \u001b[39m\u001b[32m252\u001b[39m         response_or_error = \u001b[38;5;28;01mawait\u001b[39;00m response_stream_reader.receive()\n\u001b[32m    253\u001b[39m \u001b[38;5;28;01mexcept\u001b[39;00m \u001b[38;5;167;01mTimeoutError\u001b[39;00m:\n\u001b[32m    254\u001b[39m     \u001b[38;5;28;01mraise\u001b[39;00m McpError(\n\u001b[32m    255\u001b[39m         ErrorData(\n\u001b[32m    256\u001b[39m             code=httpx.codes.REQUEST_TIMEOUT,\n\u001b[32m   (...)\u001b[39m\u001b[32m    262\u001b[39m         )\n\u001b[32m    263\u001b[39m     )\n",
      "\u001b[36mFile \u001b[39m\u001b[32mc:\\Users\\joscholt\\Documents\\GitHub\\Azure-AI-Foundry-Agentic-Workshop\\.venv\\Lib\\site-packages\\anyio\\streams\\memory.py:119\u001b[39m, in \u001b[36mMemoryObjectReceiveStream.receive\u001b[39m\u001b[34m(self)\u001b[39m\n\u001b[32m    116\u001b[39m \u001b[38;5;28mself\u001b[39m._state.waiting_receivers[receive_event] = receiver\n\u001b[32m    118\u001b[39m \u001b[38;5;28;01mtry\u001b[39;00m:\n\u001b[32m--> \u001b[39m\u001b[32m119\u001b[39m     \u001b[38;5;28;01mawait\u001b[39;00m receive_event.wait()\n\u001b[32m    120\u001b[39m \u001b[38;5;28;01mfinally\u001b[39;00m:\n\u001b[32m    121\u001b[39m     \u001b[38;5;28mself\u001b[39m._state.waiting_receivers.pop(receive_event, \u001b[38;5;28;01mNone\u001b[39;00m)\n",
      "\u001b[36mFile \u001b[39m\u001b[32mc:\\Users\\joscholt\\Documents\\GitHub\\Azure-AI-Foundry-Agentic-Workshop\\.venv\\Lib\\site-packages\\anyio\\_backends\\_asyncio.py:1774\u001b[39m, in \u001b[36mEvent.wait\u001b[39m\u001b[34m(self)\u001b[39m\n\u001b[32m   1772\u001b[39m     \u001b[38;5;28;01mawait\u001b[39;00m AsyncIOBackend.checkpoint()\n\u001b[32m   1773\u001b[39m \u001b[38;5;28;01melse\u001b[39;00m:\n\u001b[32m-> \u001b[39m\u001b[32m1774\u001b[39m     \u001b[38;5;28;01mawait\u001b[39;00m \u001b[38;5;28mself\u001b[39m._event.wait()\n",
      "\u001b[36mFile \u001b[39m\u001b[32m~\\AppData\\Local\\Programs\\Python\\Python312\\Lib\\asyncio\\locks.py:212\u001b[39m, in \u001b[36mEvent.wait\u001b[39m\u001b[34m(self)\u001b[39m\n\u001b[32m    210\u001b[39m \u001b[38;5;28mself\u001b[39m._waiters.append(fut)\n\u001b[32m    211\u001b[39m \u001b[38;5;28;01mtry\u001b[39;00m:\n\u001b[32m--> \u001b[39m\u001b[32m212\u001b[39m     \u001b[38;5;28;01mawait\u001b[39;00m fut\n\u001b[32m    213\u001b[39m     \u001b[38;5;28;01mreturn\u001b[39;00m \u001b[38;5;28;01mTrue\u001b[39;00m\n\u001b[32m    214\u001b[39m \u001b[38;5;28;01mfinally\u001b[39;00m:\n",
      "\u001b[31mCancelledError\u001b[39m: "
     ]
    }
   ],
   "source": [
    "async with MultiServerMCPClient(\n",
    "{\n",
    "    \"weather\": {\n",
    "        \"url\": f\"{environ[\"MCP_SERVER_URL\"]}/weather/sse\",\n",
    "        \"transport\": \"sse\"\n",
    "    }\n",
    "}) as client:\n",
    "    agent = create_react_agent(llm, client.get_tools())\n",
    "    reponse = await agent.ainvoke({\"messages\": \"what is the weather in sf\"})\n",
    "    pretty_print_response(reponse)\n"
   ]
  }
 ],
 "metadata": {
  "kernelspec": {
   "display_name": ".venv",
   "language": "python",
   "name": "python3"
  },
  "language_info": {
   "codemirror_mode": {
    "name": "ipython",
    "version": 3
   },
   "file_extension": ".py",
   "mimetype": "text/x-python",
   "name": "python",
   "nbconvert_exporter": "python",
   "pygments_lexer": "ipython3",
   "version": "3.12.10"
  }
 },
 "nbformat": 4,
 "nbformat_minor": 5
}
