{
 "cells": [
  {
   "cell_type": "code",
   "execution_count": 3,
   "id": "43e8e82e",
   "metadata": {},
   "outputs": [],
   "source": [
    "! pip install -r requirements.txt --quiet"
   ]
  },
  {
   "cell_type": "code",
   "execution_count": 5,
   "id": "056233f1",
   "metadata": {},
   "outputs": [
    {
     "data": {
      "text/plain": [
       "True"
      ]
     },
     "execution_count": 5,
     "metadata": {},
     "output_type": "execute_result"
    }
   ],
   "source": [
    "from dotenv import load_dotenv\n",
    "from os import environ\n",
    "from langchain_openai import AzureChatOpenAI\n",
    "from utils import pretty_print_response\n",
    "from langchain_mcp_adapters.client import MultiServerMCPClient\n",
    "from langgraph.prebuilt import create_react_agent\n",
    "\n",
    "\n",
    "load_dotenv(override=True)"
   ]
  },
  {
   "cell_type": "code",
   "execution_count": 6,
   "id": "16e4d673",
   "metadata": {},
   "outputs": [],
   "source": [
    "llm = AzureChatOpenAI(\n",
    "        temperature=0,\n",
    "        azure_deployment=environ[\"AZURE_OPENAI_MODEL\"],\n",
    "        api_version=environ[\"AZURE_OPENAI_API_VERSION\"]\n",
    "    )"
   ]
  },
  {
   "cell_type": "code",
   "execution_count": 7,
   "id": "a5e03007",
   "metadata": {},
   "outputs": [
    {
     "name": "stdout",
     "output_type": "stream",
     "text": [
      "Human: what is the weather in sf\n",
      "\n",
      "\n",
      "AI: (Tool Call Triggered)\n",
      "   Calling `get_weather_tool` with args: {\"location\":\"sf\"}\n",
      "\n",
      "\n",
      "Tool `get_weather_tool` Response: It's 60 degrees and foggy.\n",
      "\n",
      "\n",
      "AI: The weather in San Francisco is currently 60°F and foggy.\n",
      "\n",
      "\n"
     ]
    }
   ],
   "source": [
    "async with MultiServerMCPClient(\n",
    "{\n",
    "    \"weather\": {\n",
    "        \"url\": f\"{environ[\"MCP_WEATHER_SERVER_URL\"]}/sse\",\n",
    "        \"transport\": \"sse\",\n",
    "    }\n",
    "}) as client:\n",
    "    agent = create_react_agent(llm, client.get_tools())\n",
    "    reponse = await agent.ainvoke({\"messages\": \"what is the weather in sf\"})\n",
    "    pretty_print_response(reponse)\n"
   ]
  },
  {
   "cell_type": "code",
   "execution_count": 8,
   "id": "ec5cb884",
   "metadata": {},
   "outputs": [
    {
     "data": {
      "text/plain": [
       "{'messages': [HumanMessage(content='what is the weather in sf', additional_kwargs={}, response_metadata={}, id='4760acda-4de6-4ac8-9b1c-13baf003deda'),\n",
       "  AIMessage(content='', additional_kwargs={'tool_calls': [{'id': 'call_N8W15FBtB1g5eJMQreUaePQn', 'function': {'arguments': '{\"location\":\"sf\"}', 'name': 'get_weather_tool'}, 'type': 'function'}], 'refusal': None}, response_metadata={'token_usage': {'completion_tokens': 16, 'prompt_tokens': 114, 'total_tokens': 130, 'completion_tokens_details': {'accepted_prediction_tokens': 0, 'audio_tokens': 0, 'reasoning_tokens': 0, 'rejected_prediction_tokens': 0}, 'prompt_tokens_details': {'audio_tokens': 0, 'cached_tokens': 0}}, 'model_name': 'gpt-4o-2024-11-20', 'system_fingerprint': 'fp_ee1d74bde0', 'id': 'chatcmpl-BPi6xcM7KfzOOvoa6pGYIDwthH8yg', 'prompt_filter_results': [{'prompt_index': 0, 'content_filter_results': {'hate': {'filtered': False, 'severity': 'safe'}, 'jailbreak': {'filtered': False, 'detected': False}, 'self_harm': {'filtered': False, 'severity': 'safe'}, 'sexual': {'filtered': False, 'severity': 'safe'}, 'violence': {'filtered': False, 'severity': 'safe'}}}], 'finish_reason': 'tool_calls', 'logprobs': None, 'content_filter_results': {}}, id='run-588751d5-e77d-41ed-9dd0-aaa2eede7035-0', tool_calls=[{'name': 'get_weather_tool', 'args': {'location': 'sf'}, 'id': 'call_N8W15FBtB1g5eJMQreUaePQn', 'type': 'tool_call'}], usage_metadata={'input_tokens': 114, 'output_tokens': 16, 'total_tokens': 130, 'input_token_details': {'audio': 0, 'cache_read': 0}, 'output_token_details': {'audio': 0, 'reasoning': 0}}),\n",
       "  ToolMessage(content=\"It's 60 degrees and foggy.\", name='get_weather_tool', id='d215f2f8-f4be-4bc1-a1c2-1ddabd06ed99', tool_call_id='call_N8W15FBtB1g5eJMQreUaePQn'),\n",
       "  AIMessage(content='The weather in San Francisco is currently 60°F and foggy.', additional_kwargs={'refusal': None}, response_metadata={'token_usage': {'completion_tokens': 16, 'prompt_tokens': 146, 'total_tokens': 162, 'completion_tokens_details': {'accepted_prediction_tokens': 0, 'audio_tokens': 0, 'reasoning_tokens': 0, 'rejected_prediction_tokens': 0}, 'prompt_tokens_details': {'audio_tokens': 0, 'cached_tokens': 0}}, 'model_name': 'gpt-4o-2024-11-20', 'system_fingerprint': 'fp_ee1d74bde0', 'id': 'chatcmpl-BPi6xeoMAvVvdwVI7xHSLkm65Q7qb', 'prompt_filter_results': [{'prompt_index': 0, 'content_filter_results': {'hate': {'filtered': False, 'severity': 'safe'}, 'jailbreak': {'filtered': False, 'detected': False}, 'self_harm': {'filtered': False, 'severity': 'safe'}, 'sexual': {'filtered': False, 'severity': 'safe'}, 'violence': {'filtered': False, 'severity': 'safe'}}}], 'finish_reason': 'stop', 'logprobs': None, 'content_filter_results': {'hate': {'filtered': False, 'severity': 'safe'}, 'protected_material_code': {'filtered': False, 'detected': False}, 'protected_material_text': {'filtered': False, 'detected': False}, 'self_harm': {'filtered': False, 'severity': 'safe'}, 'sexual': {'filtered': False, 'severity': 'safe'}, 'violence': {'filtered': False, 'severity': 'safe'}}}, id='run-41b152bc-5169-42d1-8a50-10a2d906e6a4-0', usage_metadata={'input_tokens': 146, 'output_tokens': 16, 'total_tokens': 162, 'input_token_details': {'audio': 0, 'cache_read': 0}, 'output_token_details': {'audio': 0, 'reasoning': 0}})]}"
      ]
     },
     "execution_count": 8,
     "metadata": {},
     "output_type": "execute_result"
    }
   ],
   "source": [
    "\n",
    "reponse"
   ]
  }
 ],
 "metadata": {
  "kernelspec": {
   "display_name": ".venv",
   "language": "python",
   "name": "python3"
  },
  "language_info": {
   "codemirror_mode": {
    "name": "ipython",
    "version": 3
   },
   "file_extension": ".py",
   "mimetype": "text/x-python",
   "name": "python",
   "nbconvert_exporter": "python",
   "pygments_lexer": "ipython3",
   "version": "3.12.10"
  }
 },
 "nbformat": 4,
 "nbformat_minor": 5
}
