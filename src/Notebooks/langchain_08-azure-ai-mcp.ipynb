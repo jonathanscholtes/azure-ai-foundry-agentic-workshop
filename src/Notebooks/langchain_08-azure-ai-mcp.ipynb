{
 "cells": [
  {
   "cell_type": "code",
   "execution_count": null,
   "id": "43e8e82e",
   "metadata": {},
   "outputs": [],
   "source": [
    "! pip install -r requirements.txt --quiet"
   ]
  },
  {
   "cell_type": "code",
   "execution_count": 16,
   "id": "056233f1",
   "metadata": {},
   "outputs": [
    {
     "data": {
      "text/plain": [
       "True"
      ]
     },
     "execution_count": 16,
     "metadata": {},
     "output_type": "execute_result"
    }
   ],
   "source": [
    "from dotenv import load_dotenv\n",
    "from os import environ\n",
    "from langchain_openai import AzureChatOpenAI\n",
    "from utils import pretty_print_response\n",
    "from langchain_mcp_adapters.client import MultiServerMCPClient\n",
    "from langgraph.prebuilt import create_react_agent\n",
    "\n",
    "\n",
    "load_dotenv(override=True)"
   ]
  },
  {
   "cell_type": "code",
   "execution_count": 17,
   "id": "16e4d673",
   "metadata": {},
   "outputs": [],
   "source": [
    "llm = AzureChatOpenAI(\n",
    "        temperature=0,\n",
    "        azure_deployment=environ[\"AZURE_OPENAI_MODEL\"],\n",
    "        api_version=environ[\"AZURE_OPENAI_API_VERSION\"]\n",
    "    )"
   ]
  },
  {
   "cell_type": "markdown",
   "id": "e592af5a",
   "metadata": {},
   "source": [
    "## Connecting to a remote MCP server via sse\n",
    "\n",
    "- Server-Sent Events (SSE) is a mechanism for establishing a continuous, one-way data stream from the server to a client, such as a web application. This allows the server to push updates or messages to the client without the client needing to constantly poll for new information"
   ]
  },
  {
   "cell_type": "code",
   "execution_count": 18,
   "id": "a5e03007",
   "metadata": {},
   "outputs": [
    {
     "name": "stdout",
     "output_type": "stream",
     "text": [
      "Human: what is the weather in sf\n",
      "\n",
      "\n",
      "AI: (Tool Call Triggered)\n",
      "   Calling `get_weather_tool` with args: {\"location\":\"San Francisco\"}\n",
      "\n",
      "\n",
      "Tool `get_weather_tool` Response: It's 60 degrees and foggy.\n",
      "\n",
      "\n",
      "AI: The weather in San Francisco is currently 60°F and foggy.\n",
      "\n",
      "\n",
      "Human: What data centers are in 'critical'?\n",
      "\n",
      "\n",
      "AI: (Tool Call Triggered)\n",
      "   Calling `get_energy_usage_usage_energy_usage_get` with args: {\"alarm_status\":\"critical\"}\n",
      "\n",
      "\n",
      "Tool `get_energy_usage_usage_energy_usage_get` Response: [{'timestamp': '2025-04-14T15:00:13.724337', 'data_center_id': 'DC-NYC1', 'zone': 'B2', 'power_draw_kw': 190.82, 'it_load_kw': 148.05, 'cooling_load_kw': 35.62, 'pue': 1.29, 'temperature_c': 29.66, 'humidity_percent': 55.6, 'ups_load_percent': 78.7, 'battery_backup_status': 'charging', 'grid_energy_source': 'solar', 'co2_emissions_kg': 108.75, 'alarm_status': 'critical', 'operator_notes': ''}, {'timestamp': '2025-04-14T14:00:13.724337', 'data_center_id': 'DC-CHI2', 'zone': 'A1', 'power_draw_kw': 162.3, 'it_load_kw': 79.07, 'cooling_load_kw': 77.07, 'pue': 2.05, 'temperature_c': 24.69, 'humidity_percent': 43.5, 'ups_load_percent': 45.8, 'battery_backup_status': 'offline', 'grid_energy_source': 'solar', 'co2_emissions_kg': 89.48, 'alarm_status': 'critical', 'operator_notes': 'Temp spike investigated'}, {'timestamp': '2025-04-14T13:45:13.724337', 'data_center_id': 'DC-NYC1', 'zone': 'B2', 'power_draw_kw': 163.71, 'it_load_kw': 94.93, 'cooling_load_kw': 58.88, 'pue': 1.72, 'temperature_c': 25.68, 'humidity_percent': 45.3, 'ups_load_percent': 68.4, 'battery_backup_status': 'offline', 'grid_energy_source': 'diesel', 'co2_emissions_kg': 74.32, 'alarm_status': 'critical', 'operator_notes': 'Checked UPS levels'}, {'timestamp': '2025-04-14T13:15:13.724337', 'data_center_id': 'DC-CHI2', 'zone': 'C3', 'power_draw_kw': 224.52, 'it_load_kw': 141.74, 'cooling_load_kw': 72.39, 'pue': 1.58, 'temperature_c': 25.54, 'humidity_percent': 49.9, 'ups_load_percent': 81.5, 'battery_backup_status': 'charging', 'grid_energy_source': 'diesel', 'co2_emissions_kg': 153.31, 'alarm_status': 'critical', 'operator_notes': 'Rebooted cooling system'}, {'timestamp': '2025-04-14T12:30:13.724337', 'data_center_id': 'DC-OMA1', 'zone': 'A1', 'power_draw_kw': 122.23, 'it_load_kw': 68.52, 'cooling_load_kw': 42.42, 'pue': 1.78, 'temperature_c': 29.32, 'humidity_percent': 59.1, 'ups_load_percent': 85.0, 'battery_backup_status': 'online', 'grid_energy_source': 'solar', 'co2_emissions_kg': 78.96, 'alarm_status': 'critical', 'operator_notes': 'Temp spike investigated'}, {'timestamp': '2025-04-14T12:15:13.724337', 'data_center_id': 'DC-CHI2', 'zone': 'A1', 'power_draw_kw': 144.26, 'it_load_kw': 101.73, 'cooling_load_kw': 28.98, 'pue': 1.42, 'temperature_c': 25.05, 'humidity_percent': 33.5, 'ups_load_percent': 56.3, 'battery_backup_status': 'offline', 'grid_energy_source': 'grid', 'co2_emissions_kg': 71.1, 'alarm_status': 'critical', 'operator_notes': ''}, {'timestamp': '2025-04-14T11:30:13.724337', 'data_center_id': 'DC-OMA1', 'zone': 'B2', 'power_draw_kw': 188.51, 'it_load_kw': 145.31, 'cooling_load_kw': 31.96, 'pue': 1.3, 'temperature_c': 23.03, 'humidity_percent': 41.1, 'ups_load_percent': 82.2, 'battery_backup_status': 'offline', 'grid_energy_source': 'diesel', 'co2_emissions_kg': 99.93, 'alarm_status': 'critical', 'operator_notes': 'Temp spike investigated'}, {'timestamp': '2025-04-14T10:45:13.724337', 'data_center_id': 'DC-CHI2', 'zone': 'B2', 'power_draw_kw': 180.83, 'it_load_kw': 140.8, 'cooling_load_kw': 29.78, 'pue': 1.28, 'temperature_c': 26.05, 'humidity_percent': 47.6, 'ups_load_percent': 55.0, 'battery_backup_status': 'charging', 'grid_energy_source': 'battery', 'co2_emissions_kg': 118.51, 'alarm_status': 'critical', 'operator_notes': 'Temp spike investigated'}, {'timestamp': '2025-04-14T10:30:13.724337', 'data_center_id': 'DC-NYC1', 'zone': 'C3', 'power_draw_kw': 130.52, 'it_load_kw': 75.05, 'cooling_load_kw': 46.62, 'pue': 1.74, 'temperature_c': 29.22, 'humidity_percent': 46.1, 'ups_load_percent': 50.2, 'battery_backup_status': 'online', 'grid_energy_source': 'solar', 'co2_emissions_kg': 55.91, 'alarm_status': 'critical', 'operator_notes': 'Rebooted cooling system'}, {'timestamp': '2025-04-14T09:30:13.724337', 'data_center_id': 'DC-OMA1', 'zone': 'A1', 'power_draw_kw': 151.11, 'it_load_kw': 123.54, 'cooling_load_kw': 20.1, 'pue': 1.22, 'temperature_c': 27.83, 'humidity_percent': 54.9, 'ups_load_percent': 76.3, 'battery_backup_status': 'offline', 'grid_energy_source': 'grid', 'co2_emissions_kg': 65.37, 'alarm_status': 'critical', 'operator_notes': 'Temp spike investigated'}, {'timestamp': '2025-04-14T08:00:13.724337', 'data_center_id': 'DC-CHI2', 'zone': 'C3', 'power_draw_kw': 121.81, 'it_load_kw': 55.25, 'cooling_load_kw': 57.27, 'pue': 2.2, 'temperature_c': 28.65, 'humidity_percent': 36.5, 'ups_load_percent': 83.4, 'battery_backup_status': 'charging', 'grid_energy_source': 'diesel', 'co2_emissions_kg': 57.23, 'alarm_status': 'critical', 'operator_notes': 'Checked UPS levels'}, {'timestamp': '2025-04-14T07:45:13.724337', 'data_center_id': 'DC-NYC1', 'zone': 'B2', 'power_draw_kw': 112.15, 'it_load_kw': 53.09, 'cooling_load_kw': 45.36, 'pue': 2.11, 'temperature_c': 21.68, 'humidity_percent': 39.4, 'ups_load_percent': 61.7, 'battery_backup_status': 'discharging', 'grid_energy_source': 'solar', 'co2_emissions_kg': 73.75, 'alarm_status': 'critical', 'operator_notes': ''}, {'timestamp': '2025-04-14T07:30:13.724337', 'data_center_id': 'DC-OMA1', 'zone': 'B2', 'power_draw_kw': 184.0, 'it_load_kw': 99.72, 'cooling_load_kw': 72.06, 'pue': 1.85, 'temperature_c': 24.84, 'humidity_percent': 50.7, 'ups_load_percent': 45.4, 'battery_backup_status': 'offline', 'grid_energy_source': 'diesel', 'co2_emissions_kg': 127.88, 'alarm_status': 'critical', 'operator_notes': ''}, {'timestamp': '2025-04-14T07:00:13.724337', 'data_center_id': 'DC-CHI2', 'zone': 'C3', 'power_draw_kw': 155.61, 'it_load_kw': 75.31, 'cooling_load_kw': 71.3, 'pue': 2.07, 'temperature_c': 29.8, 'humidity_percent': 34.7, 'ups_load_percent': 41.1, 'battery_backup_status': 'charging', 'grid_energy_source': 'diesel', 'co2_emissions_kg': 76.31, 'alarm_status': 'critical', 'operator_notes': 'Checked UPS levels'}, {'timestamp': '2025-04-14T06:15:13.724337', 'data_center_id': 'DC-CHI2', 'zone': 'B2', 'power_draw_kw': 193.56, 'it_load_kw': 134.34, 'cooling_load_kw': 51.12, 'pue': 1.44, 'temperature_c': 22.18, 'humidity_percent': 45.1, 'ups_load_percent': 42.4, 'battery_backup_status': 'online', 'grid_energy_source': 'solar', 'co2_emissions_kg': 98.87, 'alarm_status': 'critical', 'operator_notes': 'Temp spike investigated'}, {'timestamp': '2025-04-14T05:30:13.724337', 'data_center_id': 'DC-CHI2', 'zone': 'B2', 'power_draw_kw': 205.56, 'it_load_kw': 115.77, 'cooling_load_kw': 75.05, 'pue': 1.78, 'temperature_c': 20.92, 'humidity_percent': 33.0, 'ups_load_percent': 62.8, 'battery_backup_status': 'online', 'grid_energy_source': 'diesel', 'co2_emissions_kg': 100.6, 'alarm_status': 'critical', 'operator_notes': 'Temp spike investigated'}, {'timestamp': '2025-04-14T05:15:13.724337', 'data_center_id': 'DC-OMA1', 'zone': 'C3', 'power_draw_kw': 128.25, 'it_load_kw': 69.06, 'cooling_load_kw': 52.47, 'pue': 1.86, 'temperature_c': 28.22, 'humidity_percent': 58.0, 'ups_load_percent': 86.0, 'battery_backup_status': 'charging', 'grid_energy_source': 'solar', 'co2_emissions_kg': 73.53, 'alarm_status': 'critical', 'operator_notes': ''}, {'timestamp': '2025-04-14T04:45:13.724337', 'data_center_id': 'DC-OMA1', 'zone': 'B2', 'power_draw_kw': 157.01, 'it_load_kw': 119.07, 'cooling_load_kw': 23.44, 'pue': 1.32, 'temperature_c': 26.86, 'humidity_percent': 57.9, 'ups_load_percent': 88.9, 'battery_backup_status': 'offline', 'grid_energy_source': 'grid', 'co2_emissions_kg': 69.82, 'alarm_status': 'critical', 'operator_notes': 'Checked UPS levels'}, {'timestamp': '2025-04-14T04:15:13.724337', 'data_center_id': 'DC-CHI2', 'zone': 'A1', 'power_draw_kw': 193.13, 'it_load_kw': 144.74, 'cooling_load_kw': 34.53, 'pue': 1.33, 'temperature_c': 21.09, 'humidity_percent': 56.2, 'ups_load_percent': 46.8, 'battery_backup_status': 'charging', 'grid_energy_source': 'diesel', 'co2_emissions_kg': 105.01, 'alarm_status': 'critical', 'operator_notes': 'Rebooted cooling system'}, {'timestamp': '2025-04-14T03:15:13.724337', 'data_center_id': 'DC-OMA1', 'zone': 'C3', 'power_draw_kw': 119.8, 'it_load_kw': 57.58, 'cooling_load_kw': 51.37, 'pue': 2.08, 'temperature_c': 28.31, 'humidity_percent': 43.7, 'ups_load_percent': 56.6, 'battery_backup_status': 'offline', 'grid_energy_source': 'solar', 'co2_emissions_kg': 64.83, 'alarm_status': 'critical', 'operator_notes': 'Temp spike investigated'}, {'timestamp': '2025-04-14T03:00:13.724337', 'data_center_id': 'DC-NYC1', 'zone': 'A1', 'power_draw_kw': 84.98, 'it_load_kw': 50.09, 'cooling_load_kw': 20.41, 'pue': 1.7, 'temperature_c': 21.65, 'humidity_percent': 48.9, 'ups_load_percent': 42.4, 'battery_backup_status': 'online', 'grid_energy_source': 'diesel', 'co2_emissions_kg': 39.88, 'alarm_status': 'critical', 'operator_notes': 'Temp spike investigated'}, {'timestamp': '2025-04-14T02:00:13.724337', 'data_center_id': 'DC-CHI2', 'zone': 'B2', 'power_draw_kw': 134.97, 'it_load_kw': 105.9, 'cooling_load_kw': 21.52, 'pue': 1.27, 'temperature_c': 21.75, 'humidity_percent': 44.8, 'ups_load_percent': 58.9, 'battery_backup_status': 'discharging', 'grid_energy_source': 'diesel', 'co2_emissions_kg': 60.12, 'alarm_status': 'critical', 'operator_notes': ''}, {'timestamp': '2025-04-14T01:45:13.724337', 'data_center_id': 'DC-CHI2', 'zone': 'B2', 'power_draw_kw': 91.79, 'it_load_kw': 63.93, 'cooling_load_kw': 22.06, 'pue': 1.44, 'temperature_c': 21.86, 'humidity_percent': 48.5, 'ups_load_percent': 45.8, 'battery_backup_status': 'charging', 'grid_energy_source': 'diesel', 'co2_emissions_kg': 56.21, 'alarm_status': 'critical', 'operator_notes': ''}, {'timestamp': '2025-04-14T00:30:13.724337', 'data_center_id': 'DC-CHI2', 'zone': 'B2', 'power_draw_kw': 176.86, 'it_load_kw': 148.64, 'cooling_load_kw': 20.3, 'pue': 1.19, 'temperature_c': 20.24, 'humidity_percent': 47.8, 'ups_load_percent': 66.9, 'battery_backup_status': 'offline', 'grid_energy_source': 'diesel', 'co2_emissions_kg': 86.64, 'alarm_status': 'critical', 'operator_notes': 'Rebooted cooling system'}, {'timestamp': '2025-04-14T00:00:13.724337', 'data_center_id': 'DC-NYC1', 'zone': 'C3', 'power_draw_kw': 213.98, 'it_load_kw': 127.99, 'cooling_load_kw': 78.01, 'pue': 1.67, 'temperature_c': 22.55, 'humidity_percent': 40.7, 'ups_load_percent': 48.9, 'battery_backup_status': 'offline', 'grid_energy_source': 'battery', 'co2_emissions_kg': 126.48, 'alarm_status': 'critical', 'operator_notes': 'Checked UPS levels'}, {'timestamp': '2025-04-13T23:00:13.724337', 'data_center_id': 'DC-OMA1', 'zone': 'A1', 'power_draw_kw': 176.31, 'it_load_kw': 147.64, 'cooling_load_kw': 20.08, 'pue': 1.19, 'temperature_c': 26.19, 'humidity_percent': 59.1, 'ups_load_percent': 71.5, 'battery_backup_status': 'charging', 'grid_energy_source': 'diesel', 'co2_emissions_kg': 108.29, 'alarm_status': 'critical', 'operator_notes': 'Rebooted cooling system'}, {'timestamp': '2025-04-13T22:45:13.724337', 'data_center_id': 'DC-CHI2', 'zone': 'C3', 'power_draw_kw': 140.12, 'it_load_kw': 112.08, 'cooling_load_kw': 22.45, 'pue': 1.25, 'temperature_c': 27.63, 'humidity_percent': 55.7, 'ups_load_percent': 81.1, 'battery_backup_status': 'charging', 'grid_energy_source': 'solar', 'co2_emissions_kg': 78.8, 'alarm_status': 'critical', 'operator_notes': ''}, {'timestamp': '2025-04-13T22:30:13.724337', 'data_center_id': 'DC-CHI2', 'zone': 'A1', 'power_draw_kw': 164.73, 'it_load_kw': 113.33, 'cooling_load_kw': 42.82, 'pue': 1.45, 'temperature_c': 28.72, 'humidity_percent': 59.5, 'ups_load_percent': 43.2, 'battery_backup_status': 'offline', 'grid_energy_source': 'solar', 'co2_emissions_kg': 103.63, 'alarm_status': 'critical', 'operator_notes': ''}, {'timestamp': '2025-04-13T22:00:13.724337', 'data_center_id': 'DC-CHI2', 'zone': 'C3', 'power_draw_kw': 203.73, 'it_load_kw': 148.93, 'cooling_load_kw': 45.01, 'pue': 1.37, 'temperature_c': 22.59, 'humidity_percent': 47.5, 'ups_load_percent': 73.9, 'battery_backup_status': 'online', 'grid_energy_source': 'solar', 'co2_emissions_kg': 140.93, 'alarm_status': 'critical', 'operator_notes': 'Temp spike investigated'}, {'timestamp': '2025-04-13T21:45:13.724337', 'data_center_id': 'DC-NYC1', 'zone': 'B2', 'power_draw_kw': 210.38, 'it_load_kw': 132.96, 'cooling_load_kw': 62.95, 'pue': 1.58, 'temperature_c': 23.87, 'humidity_percent': 58.8, 'ups_load_percent': 78.9, 'battery_backup_status': 'online', 'grid_energy_source': 'battery', 'co2_emissions_kg': 93.88, 'alarm_status': 'critical', 'operator_notes': ''}, {'timestamp': '2025-04-13T21:30:13.724337', 'data_center_id': 'DC-NYC1', 'zone': 'C3', 'power_draw_kw': 149.04, 'it_load_kw': 83.63, 'cooling_load_kw': 54.18, 'pue': 1.78, 'temperature_c': 21.77, 'humidity_percent': 39.9, 'ups_load_percent': 74.3, 'battery_backup_status': 'online', 'grid_energy_source': 'battery', 'co2_emissions_kg': 70.02, 'alarm_status': 'critical', 'operator_notes': ''}, {'timestamp': '2025-04-13T20:15:13.724337', 'data_center_id': 'DC-NYC1', 'zone': 'B2', 'power_draw_kw': 119.96, 'it_load_kw': 70.43, 'cooling_load_kw': 38.34, 'pue': 1.7, 'temperature_c': 29.5, 'humidity_percent': 60.0, 'ups_load_percent': 82.7, 'battery_backup_status': 'discharging', 'grid_energy_source': 'solar', 'co2_emissions_kg': 81.03, 'alarm_status': 'critical', 'operator_notes': 'Rebooted cooling system'}, {'timestamp': '2025-04-13T20:00:13.724337', 'data_center_id': 'DC-CHI2', 'zone': 'A1', 'power_draw_kw': 144.35, 'it_load_kw': 109.38, 'cooling_load_kw': 21.22, 'pue': 1.32, 'temperature_c': 21.45, 'humidity_percent': 60.0, 'ups_load_percent': 45.4, 'battery_backup_status': 'online', 'grid_energy_source': 'battery', 'co2_emissions_kg': 68.8, 'alarm_status': 'critical', 'operator_notes': ''}, {'timestamp': '2025-04-13T19:15:13.724337', 'data_center_id': 'DC-CHI2', 'zone': 'B2', 'power_draw_kw': 133.16, 'it_load_kw': 62.71, 'cooling_load_kw': 58.54, 'pue': 2.12, 'temperature_c': 22.11, 'humidity_percent': 58.4, 'ups_load_percent': 73.0, 'battery_backup_status': 'offline', 'grid_energy_source': 'diesel', 'co2_emissions_kg': 75.45, 'alarm_status': 'critical', 'operator_notes': ''}, {'timestamp': '2025-04-13T18:45:13.724337', 'data_center_id': 'DC-CHI2', 'zone': 'C3', 'power_draw_kw': 105.82, 'it_load_kw': 56.77, 'cooling_load_kw': 37.79, 'pue': 1.86, 'temperature_c': 23.0, 'humidity_percent': 48.4, 'ups_load_percent': 87.1, 'battery_backup_status': 'offline', 'grid_energy_source': 'solar', 'co2_emissions_kg': 48.61, 'alarm_status': 'critical', 'operator_notes': 'Checked UPS levels'}, {'timestamp': '2025-04-13T17:15:13.724337', 'data_center_id': 'DC-OMA1', 'zone': 'C3', 'power_draw_kw': 218.05, 'it_load_kw': 135.63, 'cooling_load_kw': 73.86, 'pue': 1.61, 'temperature_c': 21.18, 'humidity_percent': 48.9, 'ups_load_percent': 47.3, 'battery_backup_status': 'discharging', 'grid_energy_source': 'battery', 'co2_emissions_kg': 101.97, 'alarm_status': 'critical', 'operator_notes': 'Rebooted cooling system'}, {'timestamp': '2025-04-13T16:45:13.724337', 'data_center_id': 'DC-NYC1', 'zone': 'A1', 'power_draw_kw': 167.42, 'it_load_kw': 84.99, 'cooling_load_kw': 69.11, 'pue': 1.97, 'temperature_c': 22.74, 'humidity_percent': 44.5, 'ups_load_percent': 55.6, 'battery_backup_status': 'offline', 'grid_energy_source': 'grid', 'co2_emissions_kg': 92.41, 'alarm_status': 'critical', 'operator_notes': 'Rebooted cooling system'}, {'timestamp': '2025-04-13T16:15:13.724337', 'data_center_id': 'DC-OMA1', 'zone': 'C3', 'power_draw_kw': 111.57, 'it_load_kw': 51.46, 'cooling_load_kw': 47.14, 'pue': 2.17, 'temperature_c': 26.4, 'humidity_percent': 45.3, 'ups_load_percent': 41.0, 'battery_backup_status': 'online', 'grid_energy_source': 'grid', 'co2_emissions_kg': 53.47, 'alarm_status': 'critical', 'operator_notes': 'Temp spike investigated'}, {'timestamp': '2025-04-13T15:45:13.724337', 'data_center_id': 'DC-OMA1', 'zone': 'B2', 'power_draw_kw': 195.04, 'it_load_kw': 106.98, 'cooling_load_kw': 75.02, 'pue': 1.82, 'temperature_c': 23.55, 'humidity_percent': 35.4, 'ups_load_percent': 82.8, 'battery_backup_status': 'charging', 'grid_energy_source': 'solar', 'co2_emissions_kg': 86.57, 'alarm_status': 'critical', 'operator_notes': 'Temp spike investigated'}, {'timestamp': '2025-04-13T15:15:13.724337', 'data_center_id': 'DC-OMA1', 'zone': 'A1', 'power_draw_kw': 136.92, 'it_load_kw': 95.57, 'cooling_load_kw': 30.6, 'pue': 1.43, 'temperature_c': 26.4, 'humidity_percent': 42.4, 'ups_load_percent': 57.5, 'battery_backup_status': 'offline', 'grid_energy_source': 'solar', 'co2_emissions_kg': 72.48, 'alarm_status': 'critical', 'operator_notes': 'Rebooted cooling system'}, {'timestamp': '2025-04-13T15:00:13.724337', 'data_center_id': 'DC-OMA1', 'zone': 'C3', 'power_draw_kw': 146.97, 'it_load_kw': 76.15, 'cooling_load_kw': 63.1, 'pue': 1.93, 'temperature_c': 23.24, 'humidity_percent': 32.8, 'ups_load_percent': 41.3, 'battery_backup_status': 'charging', 'grid_energy_source': 'diesel', 'co2_emissions_kg': 97.54, 'alarm_status': 'critical', 'operator_notes': ''}, {'timestamp': '2025-04-13T14:30:13.724337', 'data_center_id': 'DC-NYC1', 'zone': 'C3', 'power_draw_kw': 161.95, 'it_load_kw': 106.03, 'cooling_load_kw': 47.8, 'pue': 1.53, 'temperature_c': 28.08, 'humidity_percent': 45.0, 'ups_load_percent': 81.8, 'battery_backup_status': 'online', 'grid_energy_source': 'grid', 'co2_emissions_kg': 88.07, 'alarm_status': 'critical', 'operator_notes': 'Checked UPS levels'}]\n",
      "\n",
      "\n",
      "AI: The following data centers are currently in a \"critical\" alarm status:\n",
      "\n",
      "1. **DC-NYC1**\n",
      "   - Zone: B2, C3, A1\n",
      "   - Issues: High power draw, temperature spikes, and UPS-related concerns.\n",
      "\n",
      "2. **DC-CHI2**\n",
      "   - Zone: A1, B2, C3\n",
      "   - Issues: Temperature spikes, cooling system reboots, and UPS-related concerns.\n",
      "\n",
      "3. **DC-OMA1**\n",
      "   - Zone: A1, B2, C3\n",
      "   - Issues: Temperature spikes, high cooling load, and UPS-related concerns.\n",
      "\n",
      "These data centers are experiencing various issues, including temperature spikes, high power draw, and UPS or cooling system problems.\n",
      "\n",
      "\n"
     ]
    }
   ],
   "source": [
    "async with MultiServerMCPClient(\n",
    "{\n",
    "    \"weather\": {\n",
    "        \"url\": f\"{environ[\"MCP_SERVER_URL\"]}/weather/sse\",\n",
    "        \"transport\": \"sse\"\n",
    "    },\n",
    "    \"data center energy usage\": {\n",
    "        \"url\": f\"{environ[\"MCP_SERVER_URL\"]}/energy/sse\",\n",
    "        \"transport\": \"sse\"\n",
    "    }\n",
    "}) as client:\n",
    "    agent = create_react_agent(llm, client.get_tools())\n",
    "    reponse = await agent.ainvoke({\"messages\": \"what is the weather in sf\"})\n",
    "    pretty_print_response(reponse)\n",
    "    reponse = await agent.ainvoke({\"messages\": \"What data centers are in 'critical'?\"})\n",
    "    pretty_print_response(reponse)\n"
   ]
  }
 ],
 "metadata": {
  "kernelspec": {
   "display_name": ".venv",
   "language": "python",
   "name": "python3"
  },
  "language_info": {
   "codemirror_mode": {
    "name": "ipython",
    "version": 3
   },
   "file_extension": ".py",
   "mimetype": "text/x-python",
   "name": "python",
   "nbconvert_exporter": "python",
   "pygments_lexer": "ipython3",
   "version": "3.12.10"
  }
 },
 "nbformat": 4,
 "nbformat_minor": 5
}
